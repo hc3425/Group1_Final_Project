{
 "cells": [
  {
   "cell_type": "markdown",
   "id": "39b5c786",
   "metadata": {},
   "source": [
    "# NYC Apartment Search\n",
    "\n",
    "## Final Project - Group 1: Hanlong Cheng & Princeton Huang"
   ]
  },
  {
   "cell_type": "markdown",
   "id": "bdf11fa0-4684-4f5e-8048-0f4cc5f4f243",
   "metadata": {},
   "source": [
    "## Setup"
   ]
  },
  {
   "cell_type": "markdown",
   "id": "a1dd9ee7",
   "metadata": {},
   "source": [
    "Below are the installation commands for data analytics toolkits needed."
   ]
  },
  {
   "cell_type": "code",
   "execution_count": 14,
   "id": "46f70a61",
   "metadata": {
    "scrolled": true
   },
   "outputs": [
    {
     "name": "stdout",
     "output_type": "stream",
     "text": [
      "Collecting psycopg2-binary\n",
      "  Obtaining dependency information for psycopg2-binary from https://files.pythonhosted.org/packages/25/1f/7ae31759142999a8d06b3e250c1346c4abcdcada8fa884376775dc1de686/psycopg2_binary-2.9.9-cp311-cp311-win_amd64.whl.metadata\n",
      "  Downloading psycopg2_binary-2.9.9-cp311-cp311-win_amd64.whl.metadata (4.6 kB)\n",
      "Downloading psycopg2_binary-2.9.9-cp311-cp311-win_amd64.whl (1.2 MB)\n",
      "   ---------------------------------------- 0.0/1.2 MB ? eta -:--:--\n",
      "   --------------- ------------------------ 0.5/1.2 MB 9.6 MB/s eta 0:00:01\n",
      "   ---------------------------------------- 1.2/1.2 MB 14.8 MB/s eta 0:00:00\n",
      "Installing collected packages: psycopg2-binary\n",
      "Successfully installed psycopg2-binary-2.9.9\n"
     ]
    }
   ],
   "source": [
    "!pip install psycopg2-binary"
   ]
  },
  {
   "cell_type": "code",
   "execution_count": 1,
   "id": "943a7efa",
   "metadata": {
    "scrolled": true
   },
   "outputs": [
    {
     "name": "stdout",
     "output_type": "stream",
     "text": [
      "Requirement already satisfied: geoalchemy2 in c:\\users\\derek\\anaconda3\\lib\\site-packages (0.14.2)\n",
      "Requirement already satisfied: SQLAlchemy>=1.4 in c:\\users\\derek\\anaconda3\\lib\\site-packages (from geoalchemy2) (1.4.39)\n",
      "Requirement already satisfied: packaging in c:\\users\\derek\\anaconda3\\lib\\site-packages (from geoalchemy2) (23.0)\n",
      "Requirement already satisfied: greenlet!=0.4.17 in c:\\users\\derek\\anaconda3\\lib\\site-packages (from SQLAlchemy>=1.4->geoalchemy2) (2.0.1)\n",
      "Requirement already satisfied: geopandas in c:\\users\\derek\\anaconda3\\lib\\site-packages (0.14.1)\n",
      "Requirement already satisfied: fiona>=1.8.21 in c:\\users\\derek\\anaconda3\\lib\\site-packages (from geopandas) (1.9.5)\n",
      "Requirement already satisfied: packaging in c:\\users\\derek\\anaconda3\\lib\\site-packages (from geopandas) (23.0)\n",
      "Requirement already satisfied: pandas>=1.4.0 in c:\\users\\derek\\anaconda3\\lib\\site-packages (from geopandas) (1.5.3)\n",
      "Requirement already satisfied: pyproj>=3.3.0 in c:\\users\\derek\\anaconda3\\lib\\site-packages (from geopandas) (3.6.1)\n",
      "Requirement already satisfied: shapely>=1.8.0 in c:\\users\\derek\\anaconda3\\lib\\site-packages (from geopandas) (2.0.2)\n",
      "Requirement already satisfied: attrs>=19.2.0 in c:\\users\\derek\\anaconda3\\lib\\site-packages (from fiona>=1.8.21->geopandas) (22.1.0)\n",
      "Requirement already satisfied: certifi in c:\\users\\derek\\anaconda3\\lib\\site-packages (from fiona>=1.8.21->geopandas) (2023.7.22)\n",
      "Requirement already satisfied: click~=8.0 in c:\\users\\derek\\anaconda3\\lib\\site-packages (from fiona>=1.8.21->geopandas) (8.0.4)\n",
      "Requirement already satisfied: click-plugins>=1.0 in c:\\users\\derek\\anaconda3\\lib\\site-packages (from fiona>=1.8.21->geopandas) (1.1.1)\n",
      "Requirement already satisfied: cligj>=0.5 in c:\\users\\derek\\anaconda3\\lib\\site-packages (from fiona>=1.8.21->geopandas) (0.7.2)\n",
      "Requirement already satisfied: six in c:\\users\\derek\\anaconda3\\lib\\site-packages (from fiona>=1.8.21->geopandas) (1.16.0)\n",
      "Requirement already satisfied: setuptools in c:\\users\\derek\\anaconda3\\lib\\site-packages (from fiona>=1.8.21->geopandas) (68.0.0)\n",
      "Requirement already satisfied: python-dateutil>=2.8.1 in c:\\users\\derek\\anaconda3\\lib\\site-packages (from pandas>=1.4.0->geopandas) (2.8.2)\n",
      "Requirement already satisfied: pytz>=2020.1 in c:\\users\\derek\\anaconda3\\lib\\site-packages (from pandas>=1.4.0->geopandas) (2022.7)\n",
      "Requirement already satisfied: numpy>=1.21.0 in c:\\users\\derek\\anaconda3\\lib\\site-packages (from pandas>=1.4.0->geopandas) (1.24.3)\n",
      "Requirement already satisfied: colorama in c:\\users\\derek\\anaconda3\\lib\\site-packages (from click~=8.0->fiona>=1.8.21->geopandas) (0.4.6)\n"
     ]
    }
   ],
   "source": [
    "!pip install geoalchemy2\n",
    "!pip install geopandas"
   ]
  },
  {
   "cell_type": "markdown",
   "id": "64076628",
   "metadata": {},
   "source": [
    "Below are the all of the import statements needed for the project."
   ]
  },
  {
   "cell_type": "code",
   "execution_count": 2,
   "id": "0f675d4b-794e-407c-aac9-b85c4a3975d2",
   "metadata": {},
   "outputs": [],
   "source": [
    "import json\n",
    "import pathlib\n",
    "import urllib.parse\n",
    "\n",
    "import geoalchemy2 as gdb\n",
    "import geopandas as gpd\n",
    "import matplotlib.pyplot as plt\n",
    "import pandas as pd\n",
    "\n",
    "import requests\n",
    "import shapely\n",
    "import sqlalchemy as db\n",
    "import psycopg2\n",
    "\n",
    "from sqlalchemy.orm import declarative_base\n",
    "\n",
    "import numpy as np\n",
    "from sqlalchemy import create_engine, text\n",
    "\n",
    "from geoalchemy2 import WKTElement, Geometry"
   ]
  },
  {
   "cell_type": "markdown",
   "id": "a9ab61d4",
   "metadata": {},
   "source": [
    "Below are the various constants needed for the project, as well as the relevant file storage directories."
   ]
  },
  {
   "cell_type": "code",
   "execution_count": 3,
   "id": "70a62277-51cf-48a2-81d2-9b2127088a7e",
   "metadata": {},
   "outputs": [],
   "source": [
    "# Where data files will be read from/written to.\n",
    "DATA_DIR = pathlib.Path(\"data\")\n",
    "ZIPCODE_DATA_FILE = DATA_DIR / \"nyc_zipcodes\" / \"nyc_zipcodes.shp\"\n",
    "ZILLOW_DATA_FILE = DATA_DIR / \"zillow_rent_data.csv\"\n",
    "\n",
    "NYC_DATA_APP_TOKEN = \"tduReHVOIB700AKqHU1FC5Za7\"\n",
    "BASE_NYC_DATA_URL = \"https://data.cityofnewyork.us/\"\n",
    "NYC_DATA_311 = \"erm2-nwe9.geojson\"\n",
    "NYC_DATA_TREES = \"5rq2-4hqu.geojson\"\n",
    "\n",
    "DB_NAME = \"Final_Project\"\n",
    "DB_USER = \"postgres\"\n",
    "DB_PASSWORD = \"postgres\"\n",
    "DB_HOST = \"localhost\"\n",
    "DB_PORT = \"5432\"\n",
    "DB_URL = f\"postgresql://{DB_USER}:{DB_PASSWORD}@{DB_HOST}:{DB_PORT}/{DB_NAME}\"\n",
    "DB_SCHEMA_FILE = \"schema.sql\"\n",
    "\n",
    "# Directory for database queries from part 3.\n",
    "QUERY_DIR = pathlib.Path(\"queries\")\n",
    "\n",
    "endpoint_311_1 = f\"{BASE_NYC_DATA_URL}resource/{NYC_DATA_311}?\"\\\n",
    "                \"$select= created_date, incident_zip, complaint_type, latitude, longitude&\"\\\n",
    "                \"$where= created_date between '2022-10-01' and'2023-10-01'&$limit=3500000&\"\\\n",
    "                f\"$$app_token={NYC_DATA_APP_TOKEN}\"\n",
    "endpoint_311_2 = f\"{BASE_NYC_DATA_URL}resource/{NYC_DATA_311}?\"\\\n",
    "                \"$select= created_date, incident_zip, complaint_type, latitude, longitude&\"\\\n",
    "                \"$where= created_date between '2015-01-01' and'2017-01-01'&$limit=5000000&\"\\\n",
    "                f\"$$app_token={NYC_DATA_APP_TOKEN}\"\n",
    "endpoint_311_3 = f\"{BASE_NYC_DATA_URL}resource/{NYC_DATA_311}?\"\\\n",
    "                \"$select= created_date, incident_zip, complaint_type, latitude, longitude&\"\\\n",
    "                \"$where= created_date between '2017-01-01' and'2019-01-01'&$limit=5000000&\"\\\n",
    "                f\"$$app_token={NYC_DATA_APP_TOKEN}\"                                                 \n",
    "endpoint_311_4 = f\"{BASE_NYC_DATA_URL}resource/{NYC_DATA_311}?\"\\\n",
    "                \"$select= created_date, incident_zip, complaint_type, latitude, longitude&\"\\\n",
    "                \"$where= created_date between '2019-01-01' and'2021-01-01'&$limit=5000000&\"\\\n",
    "                f\"$$app_token={NYC_DATA_APP_TOKEN}\"                                                 \n",
    "                                                 \n",
    "endpoint_311_5 = f\"{BASE_NYC_DATA_URL}resource/{NYC_DATA_311}?\"\\\n",
    "                \"$select= created_date, incident_zip, complaint_type, latitude, longitude&\"\\\n",
    "                \"$where= created_date between '2021-01-01' and'2022-10-01'&$limit=5000000&\"\\\n",
    "                f\"$$app_token={NYC_DATA_APP_TOKEN}\"                                                 \n",
    "                                                 \n",
    "endpoint_trees = f\"{BASE_NYC_DATA_URL}resource/{NYC_DATA_TREES}?\"\\\n",
    "                \"$select=tree_id, the_geom, zipcode, zip_city, health, spc_common, status&\"\\\n",
    "                f\"$$app_token={NYC_DATA_APP_TOKEN}&$limit=65000 &$where= zip_city='New York'\"                                                                  "
   ]
  },
  {
   "cell_type": "markdown",
   "id": "52476a07-9bf2-4b7a-8cb7-93648bb4d303",
   "metadata": {},
   "source": [
    "## Part 1: Data Preprocessing"
   ]
  },
  {
   "cell_type": "markdown",
   "id": "122ec0be",
   "metadata": {},
   "source": [
    "### Loading and Cleaning"
   ]
  },
  {
   "cell_type": "markdown",
   "id": "56469649",
   "metadata": {},
   "source": [
    "Initiate the process of downloading data from the NYC database."
   ]
  },
  {
   "cell_type": "code",
   "execution_count": 21,
   "id": "63b18f12-c0ce-4b9c-adc1-805703edc575",
   "metadata": {},
   "outputs": [],
   "source": [
    "def download_nyc_geojson_data(url, app_token, force=False):\n",
    "    parsed_url = urllib.parse.urlparse(url)\n",
    "    url_path = parsed_url.path.strip(\"/\")\n",
    "    \n",
    "    filename = DATA_DIR / url_path\n",
    "    \n",
    "    if force or not filename.exists():\n",
    "        print(f\"Downloading {url} to {filename}...\")\n",
    "        headers = {'X-App-Token': app_token}\n",
    "        response = requests.get(url, headers=headers)\n",
    "        if response.status_code == 200:\n",
    "            filename.parent.mkdir(parents=True, exist_ok=True)\n",
    "            with open(filename, \"w\") as f:\n",
    "                json.dump(response.json(), f)\n",
    "            print(f\"Done downloading {url}.\")\n",
    "        else:\n",
    "            print(f\"Failed to download dataset. Status code: {response.status_code}\")\n",
    "    else:\n",
    "        print(f\"Reading from {filename}...\")\n",
    "    \n",
    "    return filename"
   ]
  },
  {
   "cell_type": "markdown",
   "id": "7f4c036d",
   "metadata": {},
   "source": [
    "Load and clean shapefiles data from NYC’s zip codes with geometric boundary data, then return a geopandas dataframe."
   ]
  },
  {
   "cell_type": "code",
   "execution_count": 22,
   "id": "ee245240-2fbb-45b8-9a92-4e2368f62c60",
   "metadata": {},
   "outputs": [],
   "source": [
    "def load_and_clean_zipcodes():\n",
    "    zipcodes_df = gpd.read_file (ZIPCODE_DATA_FILE)\n",
    "    zipcodes_df = zipcodes_df [zipcodes_df['PO_NAME'] == 'New York']\n",
    "    zipcodes_df. rename(columns={'ZIPCODE':'zipcode'},inplace=True)\n",
    "    zipcodes_df = zipcodes_df. drop_duplicates ()\n",
    "    zipcodes_df = zipcodes_df.to_crs(epsg=4326)\n",
    "    return zipcodes_df[[\"zipcode\", \"geometry\"]]"
   ]
  },
  {
   "cell_type": "markdown",
   "id": "47305299",
   "metadata": {},
   "source": [
    "Programatically download and clean historical data from NYC Open Data on 311 complaints, as well as the 2015 tree census, then return a geopandas dataframe."
   ]
  },
  {
   "cell_type": "code",
   "execution_count": 23,
   "id": "eed2a5a9-1027-4c41-bbb5-039c32ce7e9b",
   "metadata": {},
   "outputs": [],
   "source": [
    "def download_and_clean_311_data():\n",
    "    content = requests.get(endpoint_311_1)\n",
    "    print(content)\n",
    "    data_311_1 = gpd.read_file(content.text)\n",
    "    print(content)\n",
    "    content = requests.get (endpoint_311_2)\n",
    "    data_311_2 = gpd.read_file(content.text)\n",
    "    print(content)\n",
    "    content = requests.get (endpoint_311_3)\n",
    "    data_311_3 = gpd.read_file(content.text)\n",
    "    print(content)\n",
    "    content = requests.get (endpoint_311_4)\n",
    "    data_311_4 = gpd.read_file(content.text)\n",
    "    print(content)\n",
    "    content = requests.get (endpoint_311_5)\n",
    "    data_311_5 = gpd.read_file(content.text)\n",
    "    print(content)\n",
    "    data_311 = pd.concat ([data_311_1, data_311_2, data_311_3, data_311_4, data_311_5], axis=0, ignore_index=True)\n",
    "    data_311. rename(columns={\"incident_zip\":\n",
    "    'zipcode'}, inplace=True)\n",
    "    if \"geometry\" in data_311.columns:\n",
    "        data_311. drop ('geometry' ,axis=1, inplace=True)\n",
    "    return data_311"
   ]
  },
  {
   "cell_type": "code",
   "execution_count": 24,
   "id": "39c4b1bc-c841-4b87-8301-1dc2cafeccc7",
   "metadata": {},
   "outputs": [],
   "source": [
    "def download_and_clean_tree_data():\n",
    "    content = requests. get (endpoint_trees)\n",
    "    data_tree = gpd. read_file(content.text). reset_index()\n",
    "    data_tree. rename(columns={' spc_common': 'species'}, inplace=True)\n",
    "    data_tree. rename(columns={'the_geom': 'geometry'}, inplace=True)\n",
    "    data_tree.drop('index',axis=1, inplace=True)\n",
    "    return data_tree"
   ]
  },
  {
   "cell_type": "markdown",
   "id": "923b52bd",
   "metadata": {},
   "source": [
    "Load and clean historical monthly average rent data by zip code from Zillow, then return a pandas dataframe."
   ]
  },
  {
   "cell_type": "code",
   "execution_count": 25,
   "id": "747ff49f-a18b-4fc0-8da6-6834a10d11ce",
   "metadata": {},
   "outputs": [],
   "source": [
    "def load_and_clean_zillow_data():\n",
    "    zillow_df = gpd. read_file (ZILLOW_DATA_FILE)\n",
    "    zillow_df = zillow_df[zillow_df['City'] =='New York']\n",
    "    date_columns = [col for col in zillow_df if col >= '2015-01-31' and col <= '2023-09-30']\n",
    "    for col in date_columns:\n",
    "        zillow_df [col] = pd. to_numeric(zillow_df [col], errors='coerce')\n",
    "    zillow_df. rename(columns={'RegionID':'regionid'}, inplace=True)\n",
    "    zillow_df. rename(columns={'RegionName': 'zipcode'},inplace=True)\n",
    "    zillow_df['average_rent'] = zillow_df [date_columns].mean(axis=1, skipna=True)\n",
    "    return zillow_df[[\"regionid\", 'zipcode', '2023-01-31', '2023-08-31', '2023-09-30', 'average_rent']]"
   ]
  },
  {
   "cell_type": "markdown",
   "id": "d56df53f",
   "metadata": {},
   "source": [
    "Load and return all data as the tuple of all four dataframes."
   ]
  },
  {
   "cell_type": "code",
   "execution_count": 26,
   "id": "345ebc2c-14f1-490c-9857-11f1e332e3bc",
   "metadata": {},
   "outputs": [],
   "source": [
    "def load_all_data():\n",
    "    geodf_zipcode_data = load_and_clean_zipcodes()\n",
    "    geodf_311_data = download_and_clean_311_data()\n",
    "    geodf_tree_data = download_and_clean_tree_data()\n",
    "    df_zillow_data = load_and_clean_zillow_data()\n",
    "    return (\n",
    "        geodf_zipcode_data,\n",
    "        geodf_311_data,\n",
    "        geodf_tree_data,\n",
    "        df_zillow_data\n",
    "    )"
   ]
  },
  {
   "cell_type": "code",
   "execution_count": 27,
   "id": "f2768bc8-4130-4298-be28-13d4b250a666",
   "metadata": {
    "scrolled": false
   },
   "outputs": [
    {
     "name": "stdout",
     "output_type": "stream",
     "text": [
      "<Response [200]>\n",
      "<Response [200]>\n",
      "<Response [200]>\n",
      "<Response [200]>\n",
      "<Response [200]>\n",
      "<Response [200]>\n"
     ]
    }
   ],
   "source": [
    "geodf_zipcode_data, geodf_311_data, geodf_tree_data, df_zillow_data = load_all_data()"
   ]
  },
  {
   "cell_type": "markdown",
   "id": "38036546",
   "metadata": {},
   "source": [
    "### Referencing Data"
   ]
  },
  {
   "cell_type": "markdown",
   "id": "c836b64a",
   "metadata": {},
   "source": [
    "Identify basic information about each dataframe."
   ]
  },
  {
   "cell_type": "code",
   "execution_count": 30,
   "id": "23ad8bbc-bf91-457e-97db-a945fabeee29",
   "metadata": {
    "scrolled": false
   },
   "outputs": [
    {
     "name": "stdout",
     "output_type": "stream",
     "text": [
      "<class 'geopandas.geodataframe.GeoDataFrame'>\n",
      "Int64Index: 109 entries, 21 to 262\n",
      "Data columns (total 2 columns):\n",
      " #   Column    Non-Null Count  Dtype   \n",
      "---  ------    --------------  -----   \n",
      " 0   zipcode   109 non-null    object  \n",
      " 1   geometry  109 non-null    geometry\n",
      "dtypes: geometry(1), object(1)\n",
      "memory usage: 2.6+ KB\n"
     ]
    }
   ],
   "source": [
    "geodf_zipcode_data.info()"
   ]
  },
  {
   "cell_type": "markdown",
   "id": "cc25a361",
   "metadata": {},
   "source": [
    "Display the first five entries for each dataframe."
   ]
  },
  {
   "cell_type": "code",
   "execution_count": 31,
   "id": "ec68f4be-f365-46c1-91a1-ab75deb75ff4",
   "metadata": {},
   "outputs": [
    {
     "data": {
      "text/html": [
       "<div>\n",
       "<style scoped>\n",
       "    .dataframe tbody tr th:only-of-type {\n",
       "        vertical-align: middle;\n",
       "    }\n",
       "\n",
       "    .dataframe tbody tr th {\n",
       "        vertical-align: top;\n",
       "    }\n",
       "\n",
       "    .dataframe thead th {\n",
       "        text-align: right;\n",
       "    }\n",
       "</style>\n",
       "<table border=\"1\" class=\"dataframe\">\n",
       "  <thead>\n",
       "    <tr style=\"text-align: right;\">\n",
       "      <th></th>\n",
       "      <th>zipcode</th>\n",
       "      <th>geometry</th>\n",
       "    </tr>\n",
       "  </thead>\n",
       "  <tbody>\n",
       "    <tr>\n",
       "      <th>21</th>\n",
       "      <td>10034</td>\n",
       "      <td>POLYGON ((-73.92062 40.87300, -73.92058 40.873...</td>\n",
       "    </tr>\n",
       "    <tr>\n",
       "      <th>22</th>\n",
       "      <td>10033</td>\n",
       "      <td>POLYGON ((-73.93213 40.86945, -73.93186 40.869...</td>\n",
       "    </tr>\n",
       "    <tr>\n",
       "      <th>24</th>\n",
       "      <td>10040</td>\n",
       "      <td>POLYGON ((-73.93379 40.86307, -73.93367 40.863...</td>\n",
       "    </tr>\n",
       "    <tr>\n",
       "      <th>32</th>\n",
       "      <td>10032</td>\n",
       "      <td>POLYGON ((-73.94692 40.85053, -73.94688 40.850...</td>\n",
       "    </tr>\n",
       "    <tr>\n",
       "      <th>36</th>\n",
       "      <td>10031</td>\n",
       "      <td>POLYGON ((-73.94009 40.83035, -73.93979 40.829...</td>\n",
       "    </tr>\n",
       "  </tbody>\n",
       "</table>\n",
       "</div>"
      ],
      "text/plain": [
       "   zipcode                                           geometry\n",
       "21   10034  POLYGON ((-73.92062 40.87300, -73.92058 40.873...\n",
       "22   10033  POLYGON ((-73.93213 40.86945, -73.93186 40.869...\n",
       "24   10040  POLYGON ((-73.93379 40.86307, -73.93367 40.863...\n",
       "32   10032  POLYGON ((-73.94692 40.85053, -73.94688 40.850...\n",
       "36   10031  POLYGON ((-73.94009 40.83035, -73.93979 40.829..."
      ]
     },
     "execution_count": 31,
     "metadata": {},
     "output_type": "execute_result"
    }
   ],
   "source": [
    "geodf_zipcode_data.head()"
   ]
  },
  {
   "cell_type": "code",
   "execution_count": 32,
   "id": "6a803b68-2f07-44b8-8b24-d4f16c9e03fe",
   "metadata": {},
   "outputs": [
    {
     "name": "stdout",
     "output_type": "stream",
     "text": [
      "<class 'geopandas.geodataframe.GeoDataFrame'>\n",
      "RangeIndex: 22876175 entries, 0 to 22876174\n",
      "Data columns (total 5 columns):\n",
      " #   Column          Dtype         \n",
      "---  ------          -----         \n",
      " 0   latitude        object        \n",
      " 1   created_date    datetime64[ns]\n",
      " 2   longitude       object        \n",
      " 3   zipcode         object        \n",
      " 4   complaint_type  object        \n",
      "dtypes: datetime64[ns](1), object(4)\n",
      "memory usage: 872.7+ MB\n"
     ]
    }
   ],
   "source": [
    "geodf_311_data.info()"
   ]
  },
  {
   "cell_type": "code",
   "execution_count": 29,
   "id": "14705df9-ea77-4d57-ac8e-1845f80a216d",
   "metadata": {},
   "outputs": [
    {
     "data": {
      "text/html": [
       "<div>\n",
       "<style scoped>\n",
       "    .dataframe tbody tr th:only-of-type {\n",
       "        vertical-align: middle;\n",
       "    }\n",
       "\n",
       "    .dataframe tbody tr th {\n",
       "        vertical-align: top;\n",
       "    }\n",
       "\n",
       "    .dataframe thead th {\n",
       "        text-align: right;\n",
       "    }\n",
       "</style>\n",
       "<table border=\"1\" class=\"dataframe\">\n",
       "  <thead>\n",
       "    <tr style=\"text-align: right;\">\n",
       "      <th></th>\n",
       "      <th>latitude</th>\n",
       "      <th>created_date</th>\n",
       "      <th>longitude</th>\n",
       "      <th>zipcode</th>\n",
       "      <th>complaint_type</th>\n",
       "    </tr>\n",
       "  </thead>\n",
       "  <tbody>\n",
       "    <tr>\n",
       "      <th>0</th>\n",
       "      <td>40.655672001198894</td>\n",
       "      <td>2023-09-30 23:59:58</td>\n",
       "      <td>-73.95917686020623</td>\n",
       "      <td>11226</td>\n",
       "      <td>Noise - Street/Sidewalk</td>\n",
       "    </tr>\n",
       "    <tr>\n",
       "      <th>1</th>\n",
       "      <td>40.76675595839554</td>\n",
       "      <td>2023-09-30 23:59:38</td>\n",
       "      <td>-73.78751847563191</td>\n",
       "      <td>11361</td>\n",
       "      <td>Noise - Residential</td>\n",
       "    </tr>\n",
       "    <tr>\n",
       "      <th>2</th>\n",
       "      <td>40.71949965458691</td>\n",
       "      <td>2023-09-30 23:59:35</td>\n",
       "      <td>-73.98486650733275</td>\n",
       "      <td>10002</td>\n",
       "      <td>Noise - Commercial</td>\n",
       "    </tr>\n",
       "    <tr>\n",
       "      <th>3</th>\n",
       "      <td>40.687499303408536</td>\n",
       "      <td>2023-09-30 23:59:34</td>\n",
       "      <td>-73.7972903094197</td>\n",
       "      <td>11435</td>\n",
       "      <td>Noise - Residential</td>\n",
       "    </tr>\n",
       "    <tr>\n",
       "      <th>4</th>\n",
       "      <td>40.65220215349917</td>\n",
       "      <td>2023-09-30 23:59:28</td>\n",
       "      <td>-73.9579464603267</td>\n",
       "      <td>11226</td>\n",
       "      <td>Noise - Residential</td>\n",
       "    </tr>\n",
       "  </tbody>\n",
       "</table>\n",
       "</div>"
      ],
      "text/plain": [
       "             latitude        created_date           longitude zipcode  \\\n",
       "0  40.655672001198894 2023-09-30 23:59:58  -73.95917686020623   11226   \n",
       "1   40.76675595839554 2023-09-30 23:59:38  -73.78751847563191   11361   \n",
       "2   40.71949965458691 2023-09-30 23:59:35  -73.98486650733275   10002   \n",
       "3  40.687499303408536 2023-09-30 23:59:34   -73.7972903094197   11435   \n",
       "4   40.65220215349917 2023-09-30 23:59:28   -73.9579464603267   11226   \n",
       "\n",
       "            complaint_type  \n",
       "0  Noise - Street/Sidewalk  \n",
       "1      Noise - Residential  \n",
       "2       Noise - Commercial  \n",
       "3      Noise - Residential  \n",
       "4      Noise - Residential  "
      ]
     },
     "execution_count": 29,
     "metadata": {},
     "output_type": "execute_result"
    }
   ],
   "source": [
    "geodf_311_data.head()"
   ]
  },
  {
   "cell_type": "code",
   "execution_count": 17,
   "id": "e6006cd2-3a00-4660-8d2a-a660b9bfd91e",
   "metadata": {},
   "outputs": [
    {
     "name": "stdout",
     "output_type": "stream",
     "text": [
      "<class 'geopandas.geodataframe.GeoDataFrame'>\n",
      "RangeIndex: 64488 entries, 0 to 64487\n",
      "Data columns (total 7 columns):\n",
      " #   Column      Non-Null Count  Dtype   \n",
      "---  ------      --------------  -----   \n",
      " 0   health      61495 non-null  object  \n",
      " 1   zipcode     64488 non-null  object  \n",
      " 2   tree_id     64488 non-null  object  \n",
      " 3   spc_common  61496 non-null  object  \n",
      " 4   zip_city    64488 non-null  object  \n",
      " 5   status      64488 non-null  object  \n",
      " 6   geometry    64488 non-null  geometry\n",
      "dtypes: geometry(1), object(6)\n",
      "memory usage: 3.4+ MB\n"
     ]
    }
   ],
   "source": [
    "geodf_tree_data.info()"
   ]
  },
  {
   "cell_type": "code",
   "execution_count": 33,
   "id": "07f880ef-c5fc-4159-8174-21ccd44f492d",
   "metadata": {},
   "outputs": [
    {
     "data": {
      "text/html": [
       "<div>\n",
       "<style scoped>\n",
       "    .dataframe tbody tr th:only-of-type {\n",
       "        vertical-align: middle;\n",
       "    }\n",
       "\n",
       "    .dataframe tbody tr th {\n",
       "        vertical-align: top;\n",
       "    }\n",
       "\n",
       "    .dataframe thead th {\n",
       "        text-align: right;\n",
       "    }\n",
       "</style>\n",
       "<table border=\"1\" class=\"dataframe\">\n",
       "  <thead>\n",
       "    <tr style=\"text-align: right;\">\n",
       "      <th></th>\n",
       "      <th>health</th>\n",
       "      <th>zipcode</th>\n",
       "      <th>tree_id</th>\n",
       "      <th>spc_common</th>\n",
       "      <th>zip_city</th>\n",
       "      <th>status</th>\n",
       "      <th>geometry</th>\n",
       "    </tr>\n",
       "  </thead>\n",
       "  <tbody>\n",
       "    <tr>\n",
       "      <th>0</th>\n",
       "      <td>Good</td>\n",
       "      <td>10023</td>\n",
       "      <td>190422</td>\n",
       "      <td>honeylocust</td>\n",
       "      <td>New York</td>\n",
       "      <td>Alive</td>\n",
       "      <td>POINT (-73.98495 40.77005)</td>\n",
       "    </tr>\n",
       "    <tr>\n",
       "      <th>1</th>\n",
       "      <td>Good</td>\n",
       "      <td>10023</td>\n",
       "      <td>190426</td>\n",
       "      <td>honeylocust</td>\n",
       "      <td>New York</td>\n",
       "      <td>Alive</td>\n",
       "      <td>POINT (-73.98534 40.77021)</td>\n",
       "    </tr>\n",
       "    <tr>\n",
       "      <th>2</th>\n",
       "      <td>Good</td>\n",
       "      <td>10019</td>\n",
       "      <td>208649</td>\n",
       "      <td>American linden</td>\n",
       "      <td>New York</td>\n",
       "      <td>Alive</td>\n",
       "      <td>POINT (-73.98730 40.76272)</td>\n",
       "    </tr>\n",
       "    <tr>\n",
       "      <th>3</th>\n",
       "      <td>Good</td>\n",
       "      <td>10021</td>\n",
       "      <td>193310</td>\n",
       "      <td>honeylocust</td>\n",
       "      <td>New York</td>\n",
       "      <td>Alive</td>\n",
       "      <td>POINT (-73.96046 40.77217)</td>\n",
       "    </tr>\n",
       "    <tr>\n",
       "      <th>4</th>\n",
       "      <td>Fair</td>\n",
       "      <td>10024</td>\n",
       "      <td>199760</td>\n",
       "      <td>willow oak</td>\n",
       "      <td>New York</td>\n",
       "      <td>Alive</td>\n",
       "      <td>POINT (-73.98096 40.78209)</td>\n",
       "    </tr>\n",
       "  </tbody>\n",
       "</table>\n",
       "</div>"
      ],
      "text/plain": [
       "  health zipcode tree_id       spc_common  zip_city status  \\\n",
       "0   Good   10023  190422      honeylocust  New York  Alive   \n",
       "1   Good   10023  190426      honeylocust  New York  Alive   \n",
       "2   Good   10019  208649  American linden  New York  Alive   \n",
       "3   Good   10021  193310      honeylocust  New York  Alive   \n",
       "4   Fair   10024  199760       willow oak  New York  Alive   \n",
       "\n",
       "                     geometry  \n",
       "0  POINT (-73.98495 40.77005)  \n",
       "1  POINT (-73.98534 40.77021)  \n",
       "2  POINT (-73.98730 40.76272)  \n",
       "3  POINT (-73.96046 40.77217)  \n",
       "4  POINT (-73.98096 40.78209)  "
      ]
     },
     "execution_count": 33,
     "metadata": {},
     "output_type": "execute_result"
    }
   ],
   "source": [
    "geodf_tree_data.head()"
   ]
  },
  {
   "cell_type": "code",
   "execution_count": 34,
   "id": "59724f74-5f1e-435c-b843-f381a875dd4a",
   "metadata": {},
   "outputs": [
    {
     "name": "stdout",
     "output_type": "stream",
     "text": [
      "<class 'pandas.core.frame.DataFrame'>\n",
      "Int64Index: 145 entries, 4 to 6721\n",
      "Data columns (total 6 columns):\n",
      " #   Column        Non-Null Count  Dtype  \n",
      "---  ------        --------------  -----  \n",
      " 0   regionid      145 non-null    object \n",
      " 1   zipcode       145 non-null    object \n",
      " 2   2023-01-31    121 non-null    float64\n",
      " 3   2023-08-31    138 non-null    float64\n",
      " 4   2023-09-30    145 non-null    float64\n",
      " 5   average_rent  145 non-null    float64\n",
      "dtypes: float64(4), object(2)\n",
      "memory usage: 7.9+ KB\n"
     ]
    }
   ],
   "source": [
    "df_zillow_data.info()"
   ]
  },
  {
   "cell_type": "code",
   "execution_count": 35,
   "id": "e29ae5d9-9768-4590-a2f2-dd63b07dd712",
   "metadata": {},
   "outputs": [
    {
     "data": {
      "text/html": [
       "<div>\n",
       "<style scoped>\n",
       "    .dataframe tbody tr th:only-of-type {\n",
       "        vertical-align: middle;\n",
       "    }\n",
       "\n",
       "    .dataframe tbody tr th {\n",
       "        vertical-align: top;\n",
       "    }\n",
       "\n",
       "    .dataframe thead th {\n",
       "        text-align: right;\n",
       "    }\n",
       "</style>\n",
       "<table border=\"1\" class=\"dataframe\">\n",
       "  <thead>\n",
       "    <tr style=\"text-align: right;\">\n",
       "      <th></th>\n",
       "      <th>regionid</th>\n",
       "      <th>zipcode</th>\n",
       "      <th>2023-01-31</th>\n",
       "      <th>2023-08-31</th>\n",
       "      <th>2023-09-30</th>\n",
       "      <th>average_rent</th>\n",
       "    </tr>\n",
       "  </thead>\n",
       "  <tbody>\n",
       "    <tr>\n",
       "      <th>4</th>\n",
       "      <td>62093</td>\n",
       "      <td>11385</td>\n",
       "      <td>2895.699421</td>\n",
       "      <td>3064.476503</td>\n",
       "      <td>3079.585783</td>\n",
       "      <td>2476.923402</td>\n",
       "    </tr>\n",
       "    <tr>\n",
       "      <th>6</th>\n",
       "      <td>62019</td>\n",
       "      <td>11208</td>\n",
       "      <td>2588.030194</td>\n",
       "      <td>2737.547470</td>\n",
       "      <td>2728.733333</td>\n",
       "      <td>2560.469803</td>\n",
       "    </tr>\n",
       "    <tr>\n",
       "      <th>12</th>\n",
       "      <td>62046</td>\n",
       "      <td>11236</td>\n",
       "      <td>NaN</td>\n",
       "      <td>2285.460026</td>\n",
       "      <td>2362.500000</td>\n",
       "      <td>2323.980013</td>\n",
       "    </tr>\n",
       "    <tr>\n",
       "      <th>13</th>\n",
       "      <td>61807</td>\n",
       "      <td>10467</td>\n",
       "      <td>2155.617718</td>\n",
       "      <td>2353.686402</td>\n",
       "      <td>2423.888889</td>\n",
       "      <td>1861.072982</td>\n",
       "    </tr>\n",
       "    <tr>\n",
       "      <th>14</th>\n",
       "      <td>62085</td>\n",
       "      <td>11373</td>\n",
       "      <td>2255.604528</td>\n",
       "      <td>2302.557354</td>\n",
       "      <td>2292.994444</td>\n",
       "      <td>2084.549636</td>\n",
       "    </tr>\n",
       "  </tbody>\n",
       "</table>\n",
       "</div>"
      ],
      "text/plain": [
       "   regionid zipcode   2023-01-31   2023-08-31   2023-09-30  average_rent\n",
       "4     62093   11385  2895.699421  3064.476503  3079.585783   2476.923402\n",
       "6     62019   11208  2588.030194  2737.547470  2728.733333   2560.469803\n",
       "12    62046   11236          NaN  2285.460026  2362.500000   2323.980013\n",
       "13    61807   10467  2155.617718  2353.686402  2423.888889   1861.072982\n",
       "14    62085   11373  2255.604528  2302.557354  2292.994444   2084.549636"
      ]
     },
     "execution_count": 35,
     "metadata": {},
     "output_type": "execute_result"
    }
   ],
   "source": [
    "df_zillow_data.head()"
   ]
  },
  {
   "cell_type": "markdown",
   "id": "e685942c-26dc-40db-84c2-a71aa3340806",
   "metadata": {},
   "source": [
    "## Part 2: Storing Data"
   ]
  },
  {
   "cell_type": "markdown",
   "id": "44b9a1c9",
   "metadata": {},
   "source": [
    "### Building Tables"
   ]
  },
  {
   "cell_type": "markdown",
   "id": "3b1fda4d",
   "metadata": {},
   "source": [
    "Create four database tables to store the previously-loaded data."
   ]
  },
  {
   "cell_type": "code",
   "execution_count": 6,
   "id": "421025f0",
   "metadata": {
    "scrolled": true
   },
   "outputs": [],
   "source": [
    "engine = db.create_engine(DB_URL)"
   ]
  },
  {
   "cell_type": "markdown",
   "id": "2ac07405-dc2b-47af-9dad-6a9b94d2b34c",
   "metadata": {},
   "source": [
    "Define SQL statements to generate each table."
   ]
  },
  {
   "cell_type": "code",
   "execution_count": 47,
   "id": "490d0cc6-74b3-4d35-a454-57f647c9f8e3",
   "metadata": {},
   "outputs": [],
   "source": [
    "ZIPCODE_SCHEMA = \"\"\"\n",
    "    CREATE TABLE IF NOT EXISTS zip_codes (\n",
    "        id INTEGER PRIMARY KEY,\n",
    "        zipcode VARCHAR,\n",
    "        the_geom GEOMETRY\n",
    "    )\n",
    "    \"\"\"\n",
    "\n",
    "NYC_311_SCHEMA = \"\"\"\n",
    "    CREATE TABLE IF NOT EXISTS nyc_311 (\n",
    "        id INTEGER PRIMARY KEY,\n",
    "        created_date DATE,\n",
    "        zipcode VARCHAR,\n",
    "        complaint_type VARCHAR,\n",
    "        longitude REAL,\n",
    "        latitude REAL\n",
    "    )\n",
    "    \"\"\"\n",
    "\n",
    "NYC_TREE_SCHEMA = \"\"\"\n",
    "    CREATE TABLE IF NOT EXISTS trees (\n",
    "        tree_id INTEGER PRIMARY KEY,\n",
    "        zipcode VARCHAR,\n",
    "        the_geo GEOMETRY,\n",
    "        health VARCHAR,\n",
    "        species VARCHAR,\n",
    "        status VARCHAR\n",
    "\n",
    "    )\n",
    "    \"\"\"\n",
    "\n",
    "ZILLOW_SCHEMA = \"\"\"\n",
    "    CREATE TABLE IF NOT EXISTS rent (\n",
    "        regionid INTEGER PRIMARY KEY,\n",
    "        zipcode VARCHAR,\n",
    "        \"2023-01-31\" REAL,\n",
    "        \"2023-08-31\" REAL,\n",
    "        \"2023-09-30\" REAL,\n",
    "        average_rent REAL\n",
    "\n",
    "    )\n",
    "    \"\"\""
   ]
  },
  {
   "cell_type": "markdown",
   "id": "304f0907",
   "metadata": {},
   "source": [
    "Create and write into the required \"schema.sql\" files."
   ]
  },
  {
   "cell_type": "code",
   "execution_count": 74,
   "id": "f36d86f6-ff6e-4bb8-8fa2-df0d4282e959",
   "metadata": {},
   "outputs": [],
   "source": [
    "with open(DB_SCHEMA_FILE, \"w\") as f:\n",
    "    f.write(ZIPCODE_SCHEMA)\n",
    "    f.write(NYC_311_SCHEMA)\n",
    "    f.write(NYC_TREE_SCHEMA)\n",
    "    f.write(ZILLOW_SCHEMA)"
   ]
  },
  {
   "cell_type": "markdown",
   "id": "1781b02d",
   "metadata": {},
   "source": [
    "Execute the schema files to build the necessary tables."
   ]
  },
  {
   "cell_type": "code",
   "execution_count": 75,
   "id": "48eacd37-4fd7-4768-b689-88b07d5c234e",
   "metadata": {},
   "outputs": [],
   "source": [
    "conn = psycopg2.connect (f\"dbname={DB_NAME} user={DB_USER} password={DB_PASSWORD} host={DB_HOST}\")\n",
    "cur = conn.cursor()\n",
    "\n",
    "with cur:\n",
    "    cur.execute(ZIPCODE_SCHEMA)\n",
    "    cur.execute(NYC_311_SCHEMA)\n",
    "    cur.execute(NYC_TREE_SCHEMA)\n",
    "    cur.execute(ZILLOW_SCHEMA)\n",
    "\n",
    "conn.commit()"
   ]
  },
  {
   "cell_type": "markdown",
   "id": "e05e212d",
   "metadata": {},
   "source": [
    "### Data Entry"
   ]
  },
  {
   "cell_type": "markdown",
   "id": "2e88a50c-9528-4a5c-9a52-b96781ee8985",
   "metadata": {},
   "source": [
    "Write data into the corresponding tables using SQL.\n",
    "\n",
    "**\"tablename_to_dataframe\" represents a \"dict\", where \"tablename\": \"dataframe\"**"
   ]
  },
  {
   "cell_type": "code",
   "execution_count": 69,
   "id": "69e37800-cd95-44b5-9c21-eb7ac2b2e4ec",
   "metadata": {},
   "outputs": [],
   "source": [
    "def write_dataframes_to_table(tablename_to_dataframe):\n",
    "    for tablename, dataframe in tablename_to_dataframe.items():\n",
    "        if 'geometry' in dataframe.columns:\n",
    "            # Create a copy of the dataframe, in order to avoid modifying the original.\n",
    "            temp_df = dataframe.copy()\n",
    "            \n",
    "            # Convert the \"geometry\" column to WKTElement.\n",
    "            temp_df['the_geom'] = temp_df['geometry'].apply(\n",
    "                lambda geom: WKTElement(geom.wkt, srid=4326) if geom is not None else None\n",
    "            )\n",
    "            \n",
    "            # Drop the original \"geometry\" column.\n",
    "            temp_df.drop('geometry', axis=1, inplace=True)\n",
    "            \n",
    "            # Write the dataframe to the SQL table.\n",
    "            temp_df.to_sql(\n",
    "                tablename, \n",
    "                engine, \n",
    "                if_exists='replace', \n",
    "                index=False, \n",
    "                dtype={'the_geom': Geometry('GEOMETRY', srid=4326)}\n",
    "            )\n",
    "        else:\n",
    "            # Write the dataframe to the SQL table, excluding \"geometry\".\n",
    "            dataframe.to_sql(tablename, engine, if_exists='replace', index=False)"
   ]
  },
  {
   "cell_type": "code",
   "execution_count": 73,
   "id": "d1f042f5-8270-477d-929a-872f7d9a0bc8",
   "metadata": {},
   "outputs": [],
   "source": [
    "tablename_to_dataframe = {\"zipcodes\": geodf_zipcode_data,\n",
    "                          \"rents\": df_zillow_data,\n",
    "                         \"trees\": geodf_tree_data}\n",
    "\n",
    "# \"complaints\": geodf_311_data,\n",
    "# \"trees\": geodf_tree_data,\n",
    "# \"rents\": df_zillow_data,"
   ]
  },
  {
   "cell_type": "markdown",
   "id": "5f40ae4c",
   "metadata": {},
   "source": [
    "Execute the previously-defined function to achieved the desired objective."
   ]
  },
  {
   "cell_type": "code",
   "execution_count": 72,
   "id": "9d052c50-1e43-4356-bcac-4f5abc7e714b",
   "metadata": {},
   "outputs": [],
   "source": [
    "write_dataframes_to_table(tablename_to_dataframe)"
   ]
  },
  {
   "cell_type": "markdown",
   "id": "eb63b553-0c64-4da8-9fc7-41555d89d853",
   "metadata": {},
   "source": [
    "## Part 3: Understanding the Data"
   ]
  },
  {
   "cell_type": "markdown",
   "id": "9459844a",
   "metadata": {},
   "source": [
    "### Query 1"
   ]
  },
  {
   "cell_type": "markdown",
   "id": "7ac7e12b-e251-4f08-8dc5-601db30c2089",
   "metadata": {},
   "source": [
    "### Query 2"
   ]
  },
  {
   "cell_type": "code",
   "execution_count": 4,
   "id": "d6ce8548-4aba-4bf9-992c-dedd0f249db4",
   "metadata": {},
   "outputs": [],
   "source": [
    "QUERY_2_FILENAME = QUERY_DIR / \"most trees\"\n",
    "QUERY_2 = \"\"\"\n",
    "SELECT zipcode, COUNT(tree_id) AS Total_Trees\n",
    "FROM trees\n",
    "GROUP BY zipcode\n",
    "ORDER BY Total_Trees DESC\n",
    "LIMIT 10;\n",
    "\"\"\""
   ]
  },
  {
   "cell_type": "code",
   "execution_count": 7,
   "id": "6605e6f3-ec42-4a8b-833c-5138c14b678b",
   "metadata": {},
   "outputs": [
    {
     "name": "stdout",
     "output_type": "stream",
     "text": [
      "('10025', 3696)\n",
      "('10024', 3311)\n",
      "('10027', 2992)\n",
      "('10014', 2591)\n",
      "('10031', 2587)\n",
      "('10029', 2423)\n",
      "('10002', 2265)\n",
      "('10023', 2260)\n",
      "('10032', 2217)\n",
      "('10128', 2136)\n"
     ]
    }
   ],
   "source": [
    "with engine.connect() as conn:\n",
    "    result = conn.execute(db.text(QUERY_2))\n",
    "    for row in result:\n",
    "        \n",
    "        print (row)"
   ]
  },
  {
   "cell_type": "code",
   "execution_count": null,
   "id": "4b7b2c3d-8961-4c7e-8eb1-fc973d0ab9c1",
   "metadata": {},
   "outputs": [],
   "source": [
    "write_query_to_file(QUERY_1, QUERY_1_FILENAME)"
   ]
  },
  {
   "cell_type": "markdown",
   "id": "75223ce5-6ab5-4613-b6af-fa8e33bcc7d5",
   "metadata": {},
   "source": [
    "## Part 4: Visualizing the Data"
   ]
  },
  {
   "cell_type": "markdown",
   "id": "b21fcfed-ddbb-4908-a60e-ed7cbc6d5b00",
   "metadata": {},
   "source": [
    "### Visualization 1"
   ]
  },
  {
   "cell_type": "code",
   "execution_count": null,
   "id": "6f0e2cde-e43b-407b-ab93-ff85a2dba469",
   "metadata": {},
   "outputs": [],
   "source": [
    "# use a more descriptive name for your function\n",
    "def plot_visual_1(dataframe):\n",
    "    figure, axes = plt.subplots(figsize=(20, 10))\n",
    "    \n",
    "    values = \"...\"  # use the dataframe to pull out values needed to plot\n",
    "    \n",
    "    # you may want to use matplotlib to plot your visualizations;\n",
    "    # there are also many other plot types (other \n",
    "    # than axes.plot) you can use\n",
    "    axes.plot(values, \"...\")\n",
    "    # there are other methods to use to label your axes, to style \n",
    "    # and set up axes labels, etc\n",
    "    axes.set_title(\"Some Descriptive Title\")\n",
    "    \n",
    "    plt.show()"
   ]
  },
  {
   "cell_type": "code",
   "execution_count": null,
   "id": "ed80755f-d1e1-4e53-8ef8-f5295c59a3fe",
   "metadata": {},
   "outputs": [],
   "source": [
    "def get_data_for_visual_1():\n",
    "    # Query your database for the data needed.\n",
    "    # You can put the data queried into a pandas/geopandas dataframe, if you wish\n",
    "    raise NotImplementedError()"
   ]
  },
  {
   "cell_type": "code",
   "execution_count": null,
   "id": "f6a2632a-b516-4a6e-8b67-97116ab6fce4",
   "metadata": {},
   "outputs": [],
   "source": [
    "some_dataframe = get_data_for_visual_1()\n",
    "plot_visual_1(some_dataframe)"
   ]
  }
 ],
 "metadata": {
  "kernelspec": {
   "display_name": "Python 3 (ipykernel)",
   "language": "python",
   "name": "python3"
  },
  "language_info": {
   "codemirror_mode": {
    "name": "ipython",
    "version": 3
   },
   "file_extension": ".py",
   "mimetype": "text/x-python",
   "name": "python",
   "nbconvert_exporter": "python",
   "pygments_lexer": "ipython3",
   "version": "3.11.4"
  }
 },
 "nbformat": 4,
 "nbformat_minor": 5
}
