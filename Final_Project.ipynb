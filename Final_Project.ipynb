{
 "cells": [
  {
   "cell_type": "markdown",
   "id": "39b5c786",
   "metadata": {},
   "source": [
    "# NYC Apartment Search\n",
    "\n",
    "## Final Project - Group 1: Hanlong Cheng & Princeton Huang"
   ]
  },
  {
   "cell_type": "markdown",
   "id": "bdf11fa0-4684-4f5e-8048-0f4cc5f4f243",
   "metadata": {},
   "source": [
    "## Setup"
   ]
  },
  {
   "cell_type": "markdown",
   "id": "a1dd9ee7",
   "metadata": {},
   "source": [
    "Below are the installation commands for data analytics toolkits needed."
   ]
  },
  {
   "cell_type": "code",
   "execution_count": 14,
   "id": "46f70a61",
   "metadata": {
    "scrolled": true
   },
   "outputs": [
    {
     "name": "stdout",
     "output_type": "stream",
     "text": [
      "Collecting psycopg2-binary\n",
      "  Obtaining dependency information for psycopg2-binary from https://files.pythonhosted.org/packages/25/1f/7ae31759142999a8d06b3e250c1346c4abcdcada8fa884376775dc1de686/psycopg2_binary-2.9.9-cp311-cp311-win_amd64.whl.metadata\n",
      "  Downloading psycopg2_binary-2.9.9-cp311-cp311-win_amd64.whl.metadata (4.6 kB)\n",
      "Downloading psycopg2_binary-2.9.9-cp311-cp311-win_amd64.whl (1.2 MB)\n",
      "   ---------------------------------------- 0.0/1.2 MB ? eta -:--:--\n",
      "   --------------- ------------------------ 0.5/1.2 MB 9.6 MB/s eta 0:00:01\n",
      "   ---------------------------------------- 1.2/1.2 MB 14.8 MB/s eta 0:00:00\n",
      "Installing collected packages: psycopg2-binary\n",
      "Successfully installed psycopg2-binary-2.9.9\n"
     ]
    }
   ],
   "source": [
    "!pip install psycopg2-binary"
   ]
  },
  {
   "cell_type": "code",
   "execution_count": 1,
   "id": "943a7efa",
   "metadata": {
    "scrolled": true
   },
   "outputs": [
    {
     "name": "stdout",
     "output_type": "stream",
     "text": [
      "Requirement already satisfied: geoalchemy2 in c:\\users\\derek\\anaconda3\\lib\\site-packages (0.14.2)\n",
      "Requirement already satisfied: SQLAlchemy>=1.4 in c:\\users\\derek\\anaconda3\\lib\\site-packages (from geoalchemy2) (1.4.39)\n",
      "Requirement already satisfied: packaging in c:\\users\\derek\\anaconda3\\lib\\site-packages (from geoalchemy2) (23.0)\n",
      "Requirement already satisfied: greenlet!=0.4.17 in c:\\users\\derek\\anaconda3\\lib\\site-packages (from SQLAlchemy>=1.4->geoalchemy2) (2.0.1)\n",
      "Requirement already satisfied: geopandas in c:\\users\\derek\\anaconda3\\lib\\site-packages (0.14.1)\n",
      "Requirement already satisfied: fiona>=1.8.21 in c:\\users\\derek\\anaconda3\\lib\\site-packages (from geopandas) (1.9.5)\n",
      "Requirement already satisfied: packaging in c:\\users\\derek\\anaconda3\\lib\\site-packages (from geopandas) (23.0)\n",
      "Requirement already satisfied: pandas>=1.4.0 in c:\\users\\derek\\anaconda3\\lib\\site-packages (from geopandas) (1.5.3)\n",
      "Requirement already satisfied: pyproj>=3.3.0 in c:\\users\\derek\\anaconda3\\lib\\site-packages (from geopandas) (3.6.1)\n",
      "Requirement already satisfied: shapely>=1.8.0 in c:\\users\\derek\\anaconda3\\lib\\site-packages (from geopandas) (2.0.2)\n",
      "Requirement already satisfied: attrs>=19.2.0 in c:\\users\\derek\\anaconda3\\lib\\site-packages (from fiona>=1.8.21->geopandas) (22.1.0)\n",
      "Requirement already satisfied: certifi in c:\\users\\derek\\anaconda3\\lib\\site-packages (from fiona>=1.8.21->geopandas) (2023.7.22)\n",
      "Requirement already satisfied: click~=8.0 in c:\\users\\derek\\anaconda3\\lib\\site-packages (from fiona>=1.8.21->geopandas) (8.0.4)\n",
      "Requirement already satisfied: click-plugins>=1.0 in c:\\users\\derek\\anaconda3\\lib\\site-packages (from fiona>=1.8.21->geopandas) (1.1.1)\n",
      "Requirement already satisfied: cligj>=0.5 in c:\\users\\derek\\anaconda3\\lib\\site-packages (from fiona>=1.8.21->geopandas) (0.7.2)\n",
      "Requirement already satisfied: six in c:\\users\\derek\\anaconda3\\lib\\site-packages (from fiona>=1.8.21->geopandas) (1.16.0)\n",
      "Requirement already satisfied: setuptools in c:\\users\\derek\\anaconda3\\lib\\site-packages (from fiona>=1.8.21->geopandas) (68.0.0)\n",
      "Requirement already satisfied: python-dateutil>=2.8.1 in c:\\users\\derek\\anaconda3\\lib\\site-packages (from pandas>=1.4.0->geopandas) (2.8.2)\n",
      "Requirement already satisfied: pytz>=2020.1 in c:\\users\\derek\\anaconda3\\lib\\site-packages (from pandas>=1.4.0->geopandas) (2022.7)\n",
      "Requirement already satisfied: numpy>=1.21.0 in c:\\users\\derek\\anaconda3\\lib\\site-packages (from pandas>=1.4.0->geopandas) (1.24.3)\n",
      "Requirement already satisfied: colorama in c:\\users\\derek\\anaconda3\\lib\\site-packages (from click~=8.0->fiona>=1.8.21->geopandas) (0.4.6)\n"
     ]
    }
   ],
   "source": [
    "!pip install geoalchemy2\n",
    "!pip install geopandas"
   ]
  },
  {
   "cell_type": "markdown",
   "id": "64076628",
   "metadata": {},
   "source": [
    "Below are the all of the import statements needed for the project."
   ]
  },
  {
   "cell_type": "code",
   "execution_count": 1,
   "id": "0f675d4b-794e-407c-aac9-b85c4a3975d2",
   "metadata": {},
   "outputs": [],
   "source": [
    "import json\n",
    "import pathlib\n",
    "import urllib.parse\n",
    "\n",
    "import geoalchemy2 as gdb\n",
    "import geopandas as gpd\n",
    "import matplotlib.pyplot as plt\n",
    "import pandas as pd\n",
    "\n",
    "import requests\n",
    "import shapely\n",
    "import sqlalchemy as db\n",
    "import psycopg2\n",
    "\n",
    "from sqlalchemy.orm import declarative_base\n",
    "\n",
    "import numpy as np\n",
    "from sqlalchemy import create_engine, text\n",
    "\n",
    "from geoalchemy2 import WKTElement, Geometry"
   ]
  },
  {
   "cell_type": "markdown",
   "id": "a9ab61d4",
   "metadata": {},
   "source": [
    "Below are the various constants needed for the project, as well as the relevant file storage directories."
   ]
  },
  {
   "cell_type": "code",
   "execution_count": 2,
   "id": "70a62277-51cf-48a2-81d2-9b2127088a7e",
   "metadata": {},
   "outputs": [],
   "source": [
    "# Where data files will be read from/written to.\n",
    "DATA_DIR = pathlib.Path(\"data\")\n",
    "ZIPCODE_DATA_FILE = DATA_DIR / \"nyc_zipcodes\" / \"nyc_zipcodes.shp\"\n",
    "ZILLOW_DATA_FILE = DATA_DIR / \"zillow_rent_data.csv\"\n",
    "\n",
    "NYC_DATA_APP_TOKEN = \"tduReHVOIB700AKqHU1FC5Za7\"\n",
    "BASE_NYC_DATA_URL = \"https://data.cityofnewyork.us/\"\n",
    "NYC_DATA_311 = \"erm2-nwe9.geojson\"\n",
    "NYC_DATA_TREES = \"5rq2-4hqu.geojson\"\n",
    "\n",
    "DB_NAME = \"Final_Project\"\n",
    "DB_USER = \"postgres\"\n",
    "DB_PASSWORD = \"postgres\"\n",
    "DB_HOST = \"localhost\"\n",
    "DB_PORT = \"5432\"\n",
    "DB_URL = f\"postgresql://{DB_USER}:{DB_PASSWORD}@{DB_HOST}:{DB_PORT}/{DB_NAME}\"\n",
    "DB_SCHEMA_FILE = \"schema.sql\"\n",
    "\n",
    "# Directory for database queries from part 3.\n",
    "QUERY_DIR = pathlib.Path(\"queries\")\n",
    "\n",
    "endpoint_311_1 = f\"{BASE_NYC_DATA_URL}resource/{NYC_DATA_311}?\"\\\n",
    "                \"$select= created_date, incident_zip, complaint_type, latitude, longitude&\"\\\n",
    "                \"$where= created_date between '2022-10-01' and'2023-10-01'&$limit=3500000&\"\\\n",
    "                f\"$$app_token={NYC_DATA_APP_TOKEN}\"\n",
    "endpoint_311_2 = f\"{BASE_NYC_DATA_URL}resource/{NYC_DATA_311}?\"\\\n",
    "                \"$select= created_date, incident_zip, complaint_type, latitude, longitude&\"\\\n",
    "                \"$where= created_date between '2015-01-01' and'2017-01-01'&$limit=5000000&\"\\\n",
    "                f\"$$app_token={NYC_DATA_APP_TOKEN}\"\n",
    "endpoint_311_3 = f\"{BASE_NYC_DATA_URL}resource/{NYC_DATA_311}?\"\\\n",
    "                \"$select= created_date, incident_zip, complaint_type, latitude, longitude&\"\\\n",
    "                \"$where= created_date between '2017-01-01' and'2019-01-01'&$limit=5000000&\"\\\n",
    "                f\"$$app_token={NYC_DATA_APP_TOKEN}\"                                                 \n",
    "endpoint_311_4 = f\"{BASE_NYC_DATA_URL}resource/{NYC_DATA_311}?\"\\\n",
    "                \"$select= created_date, incident_zip, complaint_type, latitude, longitude&\"\\\n",
    "                \"$where= created_date between '2019-01-01' and'2021-01-01'&$limit=5000000&\"\\\n",
    "                f\"$$app_token={NYC_DATA_APP_TOKEN}\"                                                 \n",
    "                                                 \n",
    "endpoint_311_5 = f\"{BASE_NYC_DATA_URL}resource/{NYC_DATA_311}?\"\\\n",
    "                \"$select= created_date, incident_zip, complaint_type, latitude, longitude&\"\\\n",
    "                \"$where= created_date between '2021-01-01' and'2022-10-01'&$limit=5000000&\"\\\n",
    "                f\"$$app_token={NYC_DATA_APP_TOKEN}\"                                                 \n",
    "                                                 \n",
    "endpoint_trees = f\"{BASE_NYC_DATA_URL}resource/{NYC_DATA_TREES}?\"\\\n",
    "                \"$select=tree_id, the_geom, zipcode, zip_city, health, spc_common, status&\"\\\n",
    "                f\"$$app_token={NYC_DATA_APP_TOKEN}&$limit=65000 &$where= zip_city='New York'\"                                                                  "
   ]
  },
  {
   "cell_type": "markdown",
   "id": "52476a07-9bf2-4b7a-8cb7-93648bb4d303",
   "metadata": {},
   "source": [
    "## Part 1: Data Preprocessing"
   ]
  },
  {
   "cell_type": "markdown",
   "id": "fd58ce20",
   "metadata": {},
   "source": [
    "The goal of this section is to prepare for deeper analysis by gathering and sifting through all of our data."
   ]
  },
  {
   "cell_type": "markdown",
   "id": "122ec0be",
   "metadata": {},
   "source": [
    "### Loading and Cleaning"
   ]
  },
  {
   "cell_type": "markdown",
   "id": "56469649",
   "metadata": {},
   "source": [
    "Initiate the process of downloading data from the NYC database."
   ]
  },
  {
   "cell_type": "code",
   "execution_count": 21,
   "id": "63b18f12-c0ce-4b9c-adc1-805703edc575",
   "metadata": {},
   "outputs": [],
   "source": [
    "def download_nyc_geojson_data(url, app_token, force=False):\n",
    "    parsed_url = urllib.parse.urlparse(url)\n",
    "    url_path = parsed_url.path.strip(\"/\")\n",
    "    \n",
    "    filename = DATA_DIR / url_path\n",
    "    \n",
    "    if force or not filename.exists():\n",
    "        print(f\"Downloading {url} to {filename}...\")\n",
    "        headers = {'X-App-Token': app_token}\n",
    "        response = requests.get(url, headers=headers)\n",
    "        if response.status_code == 200:\n",
    "            filename.parent.mkdir(parents=True, exist_ok=True)\n",
    "            with open(filename, \"w\") as f:\n",
    "                json.dump(response.json(), f)\n",
    "            print(f\"Done downloading {url}.\")\n",
    "        else:\n",
    "            print(f\"Failed to download dataset. Status code: {response.status_code}\")\n",
    "    else:\n",
    "        print(f\"Reading from {filename}...\")\n",
    "    \n",
    "    return filename"
   ]
  },
  {
   "cell_type": "markdown",
   "id": "7f4c036d",
   "metadata": {},
   "source": [
    "Load and clean shapefiles data from NYC’s zip codes with geometric boundary data, then return a geopandas dataframe."
   ]
  },
  {
   "cell_type": "code",
   "execution_count": 22,
   "id": "ee245240-2fbb-45b8-9a92-4e2368f62c60",
   "metadata": {},
   "outputs": [],
   "source": [
    "def load_and_clean_zipcodes():\n",
    "    zipcodes_df = gpd.read_file (ZIPCODE_DATA_FILE)\n",
    "    zipcodes_df = zipcodes_df [zipcodes_df['PO_NAME'] == 'New York']\n",
    "    zipcodes_df. rename(columns={'ZIPCODE':'zipcode'},inplace=True)\n",
    "    zipcodes_df = zipcodes_df. drop_duplicates ()\n",
    "    zipcodes_df = zipcodes_df.to_crs(epsg=4326)\n",
    "    return zipcodes_df[[\"zipcode\", \"geometry\"]]"
   ]
  },
  {
   "cell_type": "markdown",
   "id": "47305299",
   "metadata": {},
   "source": [
    "Programatically download and clean historical data from NYC Open Data on 311 complaints, as well as the 2015 tree census, then return a geopandas dataframe."
   ]
  },
  {
   "cell_type": "code",
   "execution_count": 23,
   "id": "eed2a5a9-1027-4c41-bbb5-039c32ce7e9b",
   "metadata": {},
   "outputs": [],
   "source": [
    "def download_and_clean_311_data():\n",
    "    content = requests.get(endpoint_311_1)\n",
    "    print(content)\n",
    "    data_311_1 = gpd.read_file(content.text)\n",
    "    print(content)\n",
    "    content = requests.get (endpoint_311_2)\n",
    "    data_311_2 = gpd.read_file(content.text)\n",
    "    print(content)\n",
    "    content = requests.get (endpoint_311_3)\n",
    "    data_311_3 = gpd.read_file(content.text)\n",
    "    print(content)\n",
    "    content = requests.get (endpoint_311_4)\n",
    "    data_311_4 = gpd.read_file(content.text)\n",
    "    print(content)\n",
    "    content = requests.get (endpoint_311_5)\n",
    "    data_311_5 = gpd.read_file(content.text)\n",
    "    print(content)\n",
    "    data_311 = pd.concat ([data_311_1, data_311_2, data_311_3, data_311_4, data_311_5], axis=0, ignore_index=True)\n",
    "    data_311. rename(columns={\"incident_zip\":\n",
    "    'zipcode'}, inplace=True)\n",
    "    if \"geometry\" in data_311.columns:\n",
    "        data_311. drop ('geometry' ,axis=1, inplace=True)\n",
    "    return data_311"
   ]
  },
  {
   "cell_type": "code",
   "execution_count": 24,
   "id": "39c4b1bc-c841-4b87-8301-1dc2cafeccc7",
   "metadata": {},
   "outputs": [],
   "source": [
    "def download_and_clean_tree_data():\n",
    "    content = requests. get (endpoint_trees)\n",
    "    data_tree = gpd. read_file(content.text). reset_index()\n",
    "    data_tree. rename(columns={' spc_common': 'species'}, inplace=True)\n",
    "    data_tree. rename(columns={'the_geom': 'geometry'}, inplace=True)\n",
    "    data_tree.drop('index',axis=1, inplace=True)\n",
    "    return data_tree"
   ]
  },
  {
   "cell_type": "markdown",
   "id": "923b52bd",
   "metadata": {},
   "source": [
    "Load and clean historical monthly average rent data by zip code from Zillow, then return a pandas dataframe."
   ]
  },
  {
   "cell_type": "code",
   "execution_count": 25,
   "id": "747ff49f-a18b-4fc0-8da6-6834a10d11ce",
   "metadata": {},
   "outputs": [],
   "source": [
    "def load_and_clean_zillow_data():\n",
    "    zillow_df = gpd. read_file (ZILLOW_DATA_FILE)\n",
    "    zillow_df = zillow_df[zillow_df['City'] =='New York']\n",
    "    date_columns = [col for col in zillow_df if col >= '2015-01-31' and col <= '2023-09-30']\n",
    "    for col in date_columns:\n",
    "        zillow_df [col] = pd. to_numeric(zillow_df [col], errors='coerce')\n",
    "    zillow_df. rename(columns={'RegionID':'regionid'}, inplace=True)\n",
    "    zillow_df. rename(columns={'RegionName': 'zipcode'},inplace=True)\n",
    "    zillow_df['average_rent'] = zillow_df [date_columns].mean(axis=1, skipna=True)\n",
    "    return zillow_df[[\"regionid\", 'zipcode', '2023-01-31', '2023-08-31', '2023-09-30', 'average_rent']]"
   ]
  },
  {
   "cell_type": "markdown",
   "id": "d56df53f",
   "metadata": {},
   "source": [
    "Load and return all data as the tuple of all four dataframes."
   ]
  },
  {
   "cell_type": "code",
   "execution_count": 26,
   "id": "345ebc2c-14f1-490c-9857-11f1e332e3bc",
   "metadata": {},
   "outputs": [],
   "source": [
    "def load_all_data():\n",
    "    geodf_zipcode_data = load_and_clean_zipcodes()\n",
    "    geodf_311_data = download_and_clean_311_data()\n",
    "    geodf_tree_data = download_and_clean_tree_data()\n",
    "    df_zillow_data = load_and_clean_zillow_data()\n",
    "    return (\n",
    "        geodf_zipcode_data,\n",
    "        geodf_311_data,\n",
    "        geodf_tree_data,\n",
    "        df_zillow_data\n",
    "    )"
   ]
  },
  {
   "cell_type": "code",
   "execution_count": 27,
   "id": "f2768bc8-4130-4298-be28-13d4b250a666",
   "metadata": {
    "scrolled": false
   },
   "outputs": [
    {
     "name": "stdout",
     "output_type": "stream",
     "text": [
      "<Response [200]>\n",
      "<Response [200]>\n",
      "<Response [200]>\n",
      "<Response [200]>\n",
      "<Response [200]>\n",
      "<Response [200]>\n"
     ]
    }
   ],
   "source": [
    "geodf_zipcode_data, geodf_311_data, geodf_tree_data, df_zillow_data = load_all_data()"
   ]
  },
  {
   "cell_type": "markdown",
   "id": "38036546",
   "metadata": {},
   "source": [
    "### Referencing Data"
   ]
  },
  {
   "cell_type": "markdown",
   "id": "c836b64a",
   "metadata": {},
   "source": [
    "Identify basic information about each dataframe."
   ]
  },
  {
   "cell_type": "code",
   "execution_count": 30,
   "id": "23ad8bbc-bf91-457e-97db-a945fabeee29",
   "metadata": {
    "scrolled": false
   },
   "outputs": [
    {
     "name": "stdout",
     "output_type": "stream",
     "text": [
      "<class 'geopandas.geodataframe.GeoDataFrame'>\n",
      "Int64Index: 109 entries, 21 to 262\n",
      "Data columns (total 2 columns):\n",
      " #   Column    Non-Null Count  Dtype   \n",
      "---  ------    --------------  -----   \n",
      " 0   zipcode   109 non-null    object  \n",
      " 1   geometry  109 non-null    geometry\n",
      "dtypes: geometry(1), object(1)\n",
      "memory usage: 2.6+ KB\n"
     ]
    }
   ],
   "source": [
    "geodf_zipcode_data.info()"
   ]
  },
  {
   "cell_type": "markdown",
   "id": "cc25a361",
   "metadata": {},
   "source": [
    "Display the first five entries for each dataframe."
   ]
  },
  {
   "cell_type": "code",
   "execution_count": 31,
   "id": "ec68f4be-f365-46c1-91a1-ab75deb75ff4",
   "metadata": {},
   "outputs": [
    {
     "data": {
      "text/html": [
       "<div>\n",
       "<style scoped>\n",
       "    .dataframe tbody tr th:only-of-type {\n",
       "        vertical-align: middle;\n",
       "    }\n",
       "\n",
       "    .dataframe tbody tr th {\n",
       "        vertical-align: top;\n",
       "    }\n",
       "\n",
       "    .dataframe thead th {\n",
       "        text-align: right;\n",
       "    }\n",
       "</style>\n",
       "<table border=\"1\" class=\"dataframe\">\n",
       "  <thead>\n",
       "    <tr style=\"text-align: right;\">\n",
       "      <th></th>\n",
       "      <th>zipcode</th>\n",
       "      <th>geometry</th>\n",
       "    </tr>\n",
       "  </thead>\n",
       "  <tbody>\n",
       "    <tr>\n",
       "      <th>21</th>\n",
       "      <td>10034</td>\n",
       "      <td>POLYGON ((-73.92062 40.87300, -73.92058 40.873...</td>\n",
       "    </tr>\n",
       "    <tr>\n",
       "      <th>22</th>\n",
       "      <td>10033</td>\n",
       "      <td>POLYGON ((-73.93213 40.86945, -73.93186 40.869...</td>\n",
       "    </tr>\n",
       "    <tr>\n",
       "      <th>24</th>\n",
       "      <td>10040</td>\n",
       "      <td>POLYGON ((-73.93379 40.86307, -73.93367 40.863...</td>\n",
       "    </tr>\n",
       "    <tr>\n",
       "      <th>32</th>\n",
       "      <td>10032</td>\n",
       "      <td>POLYGON ((-73.94692 40.85053, -73.94688 40.850...</td>\n",
       "    </tr>\n",
       "    <tr>\n",
       "      <th>36</th>\n",
       "      <td>10031</td>\n",
       "      <td>POLYGON ((-73.94009 40.83035, -73.93979 40.829...</td>\n",
       "    </tr>\n",
       "  </tbody>\n",
       "</table>\n",
       "</div>"
      ],
      "text/plain": [
       "   zipcode                                           geometry\n",
       "21   10034  POLYGON ((-73.92062 40.87300, -73.92058 40.873...\n",
       "22   10033  POLYGON ((-73.93213 40.86945, -73.93186 40.869...\n",
       "24   10040  POLYGON ((-73.93379 40.86307, -73.93367 40.863...\n",
       "32   10032  POLYGON ((-73.94692 40.85053, -73.94688 40.850...\n",
       "36   10031  POLYGON ((-73.94009 40.83035, -73.93979 40.829..."
      ]
     },
     "execution_count": 31,
     "metadata": {},
     "output_type": "execute_result"
    }
   ],
   "source": [
    "geodf_zipcode_data.head()"
   ]
  },
  {
   "cell_type": "code",
   "execution_count": 32,
   "id": "6a803b68-2f07-44b8-8b24-d4f16c9e03fe",
   "metadata": {},
   "outputs": [
    {
     "name": "stdout",
     "output_type": "stream",
     "text": [
      "<class 'geopandas.geodataframe.GeoDataFrame'>\n",
      "RangeIndex: 22876175 entries, 0 to 22876174\n",
      "Data columns (total 5 columns):\n",
      " #   Column          Dtype         \n",
      "---  ------          -----         \n",
      " 0   latitude        object        \n",
      " 1   created_date    datetime64[ns]\n",
      " 2   longitude       object        \n",
      " 3   zipcode         object        \n",
      " 4   complaint_type  object        \n",
      "dtypes: datetime64[ns](1), object(4)\n",
      "memory usage: 872.7+ MB\n"
     ]
    }
   ],
   "source": [
    "geodf_311_data.info()"
   ]
  },
  {
   "cell_type": "code",
   "execution_count": 29,
   "id": "14705df9-ea77-4d57-ac8e-1845f80a216d",
   "metadata": {},
   "outputs": [
    {
     "data": {
      "text/html": [
       "<div>\n",
       "<style scoped>\n",
       "    .dataframe tbody tr th:only-of-type {\n",
       "        vertical-align: middle;\n",
       "    }\n",
       "\n",
       "    .dataframe tbody tr th {\n",
       "        vertical-align: top;\n",
       "    }\n",
       "\n",
       "    .dataframe thead th {\n",
       "        text-align: right;\n",
       "    }\n",
       "</style>\n",
       "<table border=\"1\" class=\"dataframe\">\n",
       "  <thead>\n",
       "    <tr style=\"text-align: right;\">\n",
       "      <th></th>\n",
       "      <th>latitude</th>\n",
       "      <th>created_date</th>\n",
       "      <th>longitude</th>\n",
       "      <th>zipcode</th>\n",
       "      <th>complaint_type</th>\n",
       "    </tr>\n",
       "  </thead>\n",
       "  <tbody>\n",
       "    <tr>\n",
       "      <th>0</th>\n",
       "      <td>40.655672001198894</td>\n",
       "      <td>2023-09-30 23:59:58</td>\n",
       "      <td>-73.95917686020623</td>\n",
       "      <td>11226</td>\n",
       "      <td>Noise - Street/Sidewalk</td>\n",
       "    </tr>\n",
       "    <tr>\n",
       "      <th>1</th>\n",
       "      <td>40.76675595839554</td>\n",
       "      <td>2023-09-30 23:59:38</td>\n",
       "      <td>-73.78751847563191</td>\n",
       "      <td>11361</td>\n",
       "      <td>Noise - Residential</td>\n",
       "    </tr>\n",
       "    <tr>\n",
       "      <th>2</th>\n",
       "      <td>40.71949965458691</td>\n",
       "      <td>2023-09-30 23:59:35</td>\n",
       "      <td>-73.98486650733275</td>\n",
       "      <td>10002</td>\n",
       "      <td>Noise - Commercial</td>\n",
       "    </tr>\n",
       "    <tr>\n",
       "      <th>3</th>\n",
       "      <td>40.687499303408536</td>\n",
       "      <td>2023-09-30 23:59:34</td>\n",
       "      <td>-73.7972903094197</td>\n",
       "      <td>11435</td>\n",
       "      <td>Noise - Residential</td>\n",
       "    </tr>\n",
       "    <tr>\n",
       "      <th>4</th>\n",
       "      <td>40.65220215349917</td>\n",
       "      <td>2023-09-30 23:59:28</td>\n",
       "      <td>-73.9579464603267</td>\n",
       "      <td>11226</td>\n",
       "      <td>Noise - Residential</td>\n",
       "    </tr>\n",
       "  </tbody>\n",
       "</table>\n",
       "</div>"
      ],
      "text/plain": [
       "             latitude        created_date           longitude zipcode  \\\n",
       "0  40.655672001198894 2023-09-30 23:59:58  -73.95917686020623   11226   \n",
       "1   40.76675595839554 2023-09-30 23:59:38  -73.78751847563191   11361   \n",
       "2   40.71949965458691 2023-09-30 23:59:35  -73.98486650733275   10002   \n",
       "3  40.687499303408536 2023-09-30 23:59:34   -73.7972903094197   11435   \n",
       "4   40.65220215349917 2023-09-30 23:59:28   -73.9579464603267   11226   \n",
       "\n",
       "            complaint_type  \n",
       "0  Noise - Street/Sidewalk  \n",
       "1      Noise - Residential  \n",
       "2       Noise - Commercial  \n",
       "3      Noise - Residential  \n",
       "4      Noise - Residential  "
      ]
     },
     "execution_count": 29,
     "metadata": {},
     "output_type": "execute_result"
    }
   ],
   "source": [
    "geodf_311_data.head()"
   ]
  },
  {
   "cell_type": "code",
   "execution_count": 17,
   "id": "e6006cd2-3a00-4660-8d2a-a660b9bfd91e",
   "metadata": {},
   "outputs": [
    {
     "name": "stdout",
     "output_type": "stream",
     "text": [
      "<class 'geopandas.geodataframe.GeoDataFrame'>\n",
      "RangeIndex: 64488 entries, 0 to 64487\n",
      "Data columns (total 7 columns):\n",
      " #   Column      Non-Null Count  Dtype   \n",
      "---  ------      --------------  -----   \n",
      " 0   health      61495 non-null  object  \n",
      " 1   zipcode     64488 non-null  object  \n",
      " 2   tree_id     64488 non-null  object  \n",
      " 3   spc_common  61496 non-null  object  \n",
      " 4   zip_city    64488 non-null  object  \n",
      " 5   status      64488 non-null  object  \n",
      " 6   geometry    64488 non-null  geometry\n",
      "dtypes: geometry(1), object(6)\n",
      "memory usage: 3.4+ MB\n"
     ]
    }
   ],
   "source": [
    "geodf_tree_data.info()"
   ]
  },
  {
   "cell_type": "code",
   "execution_count": 33,
   "id": "07f880ef-c5fc-4159-8174-21ccd44f492d",
   "metadata": {},
   "outputs": [
    {
     "data": {
      "text/html": [
       "<div>\n",
       "<style scoped>\n",
       "    .dataframe tbody tr th:only-of-type {\n",
       "        vertical-align: middle;\n",
       "    }\n",
       "\n",
       "    .dataframe tbody tr th {\n",
       "        vertical-align: top;\n",
       "    }\n",
       "\n",
       "    .dataframe thead th {\n",
       "        text-align: right;\n",
       "    }\n",
       "</style>\n",
       "<table border=\"1\" class=\"dataframe\">\n",
       "  <thead>\n",
       "    <tr style=\"text-align: right;\">\n",
       "      <th></th>\n",
       "      <th>health</th>\n",
       "      <th>zipcode</th>\n",
       "      <th>tree_id</th>\n",
       "      <th>spc_common</th>\n",
       "      <th>zip_city</th>\n",
       "      <th>status</th>\n",
       "      <th>geometry</th>\n",
       "    </tr>\n",
       "  </thead>\n",
       "  <tbody>\n",
       "    <tr>\n",
       "      <th>0</th>\n",
       "      <td>Good</td>\n",
       "      <td>10023</td>\n",
       "      <td>190422</td>\n",
       "      <td>honeylocust</td>\n",
       "      <td>New York</td>\n",
       "      <td>Alive</td>\n",
       "      <td>POINT (-73.98495 40.77005)</td>\n",
       "    </tr>\n",
       "    <tr>\n",
       "      <th>1</th>\n",
       "      <td>Good</td>\n",
       "      <td>10023</td>\n",
       "      <td>190426</td>\n",
       "      <td>honeylocust</td>\n",
       "      <td>New York</td>\n",
       "      <td>Alive</td>\n",
       "      <td>POINT (-73.98534 40.77021)</td>\n",
       "    </tr>\n",
       "    <tr>\n",
       "      <th>2</th>\n",
       "      <td>Good</td>\n",
       "      <td>10019</td>\n",
       "      <td>208649</td>\n",
       "      <td>American linden</td>\n",
       "      <td>New York</td>\n",
       "      <td>Alive</td>\n",
       "      <td>POINT (-73.98730 40.76272)</td>\n",
       "    </tr>\n",
       "    <tr>\n",
       "      <th>3</th>\n",
       "      <td>Good</td>\n",
       "      <td>10021</td>\n",
       "      <td>193310</td>\n",
       "      <td>honeylocust</td>\n",
       "      <td>New York</td>\n",
       "      <td>Alive</td>\n",
       "      <td>POINT (-73.96046 40.77217)</td>\n",
       "    </tr>\n",
       "    <tr>\n",
       "      <th>4</th>\n",
       "      <td>Fair</td>\n",
       "      <td>10024</td>\n",
       "      <td>199760</td>\n",
       "      <td>willow oak</td>\n",
       "      <td>New York</td>\n",
       "      <td>Alive</td>\n",
       "      <td>POINT (-73.98096 40.78209)</td>\n",
       "    </tr>\n",
       "  </tbody>\n",
       "</table>\n",
       "</div>"
      ],
      "text/plain": [
       "  health zipcode tree_id       spc_common  zip_city status  \\\n",
       "0   Good   10023  190422      honeylocust  New York  Alive   \n",
       "1   Good   10023  190426      honeylocust  New York  Alive   \n",
       "2   Good   10019  208649  American linden  New York  Alive   \n",
       "3   Good   10021  193310      honeylocust  New York  Alive   \n",
       "4   Fair   10024  199760       willow oak  New York  Alive   \n",
       "\n",
       "                     geometry  \n",
       "0  POINT (-73.98495 40.77005)  \n",
       "1  POINT (-73.98534 40.77021)  \n",
       "2  POINT (-73.98730 40.76272)  \n",
       "3  POINT (-73.96046 40.77217)  \n",
       "4  POINT (-73.98096 40.78209)  "
      ]
     },
     "execution_count": 33,
     "metadata": {},
     "output_type": "execute_result"
    }
   ],
   "source": [
    "geodf_tree_data.head()"
   ]
  },
  {
   "cell_type": "code",
   "execution_count": 34,
   "id": "59724f74-5f1e-435c-b843-f381a875dd4a",
   "metadata": {},
   "outputs": [
    {
     "name": "stdout",
     "output_type": "stream",
     "text": [
      "<class 'pandas.core.frame.DataFrame'>\n",
      "Int64Index: 145 entries, 4 to 6721\n",
      "Data columns (total 6 columns):\n",
      " #   Column        Non-Null Count  Dtype  \n",
      "---  ------        --------------  -----  \n",
      " 0   regionid      145 non-null    object \n",
      " 1   zipcode       145 non-null    object \n",
      " 2   2023-01-31    121 non-null    float64\n",
      " 3   2023-08-31    138 non-null    float64\n",
      " 4   2023-09-30    145 non-null    float64\n",
      " 5   average_rent  145 non-null    float64\n",
      "dtypes: float64(4), object(2)\n",
      "memory usage: 7.9+ KB\n"
     ]
    }
   ],
   "source": [
    "df_zillow_data.info()"
   ]
  },
  {
   "cell_type": "code",
   "execution_count": 35,
   "id": "e29ae5d9-9768-4590-a2f2-dd63b07dd712",
   "metadata": {},
   "outputs": [
    {
     "data": {
      "text/html": [
       "<div>\n",
       "<style scoped>\n",
       "    .dataframe tbody tr th:only-of-type {\n",
       "        vertical-align: middle;\n",
       "    }\n",
       "\n",
       "    .dataframe tbody tr th {\n",
       "        vertical-align: top;\n",
       "    }\n",
       "\n",
       "    .dataframe thead th {\n",
       "        text-align: right;\n",
       "    }\n",
       "</style>\n",
       "<table border=\"1\" class=\"dataframe\">\n",
       "  <thead>\n",
       "    <tr style=\"text-align: right;\">\n",
       "      <th></th>\n",
       "      <th>regionid</th>\n",
       "      <th>zipcode</th>\n",
       "      <th>2023-01-31</th>\n",
       "      <th>2023-08-31</th>\n",
       "      <th>2023-09-30</th>\n",
       "      <th>average_rent</th>\n",
       "    </tr>\n",
       "  </thead>\n",
       "  <tbody>\n",
       "    <tr>\n",
       "      <th>4</th>\n",
       "      <td>62093</td>\n",
       "      <td>11385</td>\n",
       "      <td>2895.699421</td>\n",
       "      <td>3064.476503</td>\n",
       "      <td>3079.585783</td>\n",
       "      <td>2476.923402</td>\n",
       "    </tr>\n",
       "    <tr>\n",
       "      <th>6</th>\n",
       "      <td>62019</td>\n",
       "      <td>11208</td>\n",
       "      <td>2588.030194</td>\n",
       "      <td>2737.547470</td>\n",
       "      <td>2728.733333</td>\n",
       "      <td>2560.469803</td>\n",
       "    </tr>\n",
       "    <tr>\n",
       "      <th>12</th>\n",
       "      <td>62046</td>\n",
       "      <td>11236</td>\n",
       "      <td>NaN</td>\n",
       "      <td>2285.460026</td>\n",
       "      <td>2362.500000</td>\n",
       "      <td>2323.980013</td>\n",
       "    </tr>\n",
       "    <tr>\n",
       "      <th>13</th>\n",
       "      <td>61807</td>\n",
       "      <td>10467</td>\n",
       "      <td>2155.617718</td>\n",
       "      <td>2353.686402</td>\n",
       "      <td>2423.888889</td>\n",
       "      <td>1861.072982</td>\n",
       "    </tr>\n",
       "    <tr>\n",
       "      <th>14</th>\n",
       "      <td>62085</td>\n",
       "      <td>11373</td>\n",
       "      <td>2255.604528</td>\n",
       "      <td>2302.557354</td>\n",
       "      <td>2292.994444</td>\n",
       "      <td>2084.549636</td>\n",
       "    </tr>\n",
       "  </tbody>\n",
       "</table>\n",
       "</div>"
      ],
      "text/plain": [
       "   regionid zipcode   2023-01-31   2023-08-31   2023-09-30  average_rent\n",
       "4     62093   11385  2895.699421  3064.476503  3079.585783   2476.923402\n",
       "6     62019   11208  2588.030194  2737.547470  2728.733333   2560.469803\n",
       "12    62046   11236          NaN  2285.460026  2362.500000   2323.980013\n",
       "13    61807   10467  2155.617718  2353.686402  2423.888889   1861.072982\n",
       "14    62085   11373  2255.604528  2302.557354  2292.994444   2084.549636"
      ]
     },
     "execution_count": 35,
     "metadata": {},
     "output_type": "execute_result"
    }
   ],
   "source": [
    "df_zillow_data.head()"
   ]
  },
  {
   "cell_type": "markdown",
   "id": "e685942c-26dc-40db-84c2-a71aa3340806",
   "metadata": {},
   "source": [
    "## Part 2: Storing Data"
   ]
  },
  {
   "cell_type": "markdown",
   "id": "38cfa671",
   "metadata": {},
   "source": [
    "This section aims to provide a foundation in which data can be entered and preserved."
   ]
  },
  {
   "cell_type": "markdown",
   "id": "44b9a1c9",
   "metadata": {},
   "source": [
    "### Building Tables"
   ]
  },
  {
   "cell_type": "markdown",
   "id": "3b1fda4d",
   "metadata": {},
   "source": [
    "Create four database tables to store the previously-loaded data."
   ]
  },
  {
   "cell_type": "code",
   "execution_count": 3,
   "id": "421025f0",
   "metadata": {
    "scrolled": true
   },
   "outputs": [],
   "source": [
    "engine = db.create_engine(DB_URL)"
   ]
  },
  {
   "cell_type": "markdown",
   "id": "2ac07405-dc2b-47af-9dad-6a9b94d2b34c",
   "metadata": {},
   "source": [
    "Define SQL statements to generate each table."
   ]
  },
  {
   "cell_type": "code",
   "execution_count": 47,
   "id": "490d0cc6-74b3-4d35-a454-57f647c9f8e3",
   "metadata": {},
   "outputs": [],
   "source": [
    "ZIPCODE_SCHEMA = \"\"\"\n",
    "    CREATE TABLE IF NOT EXISTS zip_codes (\n",
    "        id INTEGER PRIMARY KEY,\n",
    "        zipcode VARCHAR,\n",
    "        the_geom GEOMETRY\n",
    "    )\n",
    "    \"\"\"\n",
    "\n",
    "NYC_311_SCHEMA = \"\"\"\n",
    "    CREATE TABLE IF NOT EXISTS nyc_311 (\n",
    "        id INTEGER PRIMARY KEY,\n",
    "        created_date DATE,\n",
    "        zipcode VARCHAR,\n",
    "        complaint_type VARCHAR,\n",
    "        longitude REAL,\n",
    "        latitude REAL\n",
    "    )\n",
    "    \"\"\"\n",
    "\n",
    "NYC_TREE_SCHEMA = \"\"\"\n",
    "    CREATE TABLE IF NOT EXISTS trees (\n",
    "        tree_id INTEGER PRIMARY KEY,\n",
    "        zipcode VARCHAR,\n",
    "        the_geo GEOMETRY,\n",
    "        health VARCHAR,\n",
    "        species VARCHAR,\n",
    "        status VARCHAR\n",
    "\n",
    "    )\n",
    "    \"\"\"\n",
    "\n",
    "ZILLOW_SCHEMA = \"\"\"\n",
    "    CREATE TABLE IF NOT EXISTS rent (\n",
    "        regionid INTEGER PRIMARY KEY,\n",
    "        zipcode VARCHAR,\n",
    "        \"2023-01-31\" REAL,\n",
    "        \"2023-08-31\" REAL,\n",
    "        \"2023-09-30\" REAL,\n",
    "        average_rent REAL\n",
    "\n",
    "    )\n",
    "    \"\"\""
   ]
  },
  {
   "cell_type": "markdown",
   "id": "304f0907",
   "metadata": {},
   "source": [
    "Create and write into the required \"schema.sql\" files."
   ]
  },
  {
   "cell_type": "code",
   "execution_count": 74,
   "id": "f36d86f6-ff6e-4bb8-8fa2-df0d4282e959",
   "metadata": {},
   "outputs": [],
   "source": [
    "with open(DB_SCHEMA_FILE, \"w\") as f:\n",
    "    f.write(ZIPCODE_SCHEMA)\n",
    "    f.write(NYC_311_SCHEMA)\n",
    "    f.write(NYC_TREE_SCHEMA)\n",
    "    f.write(ZILLOW_SCHEMA)"
   ]
  },
  {
   "cell_type": "markdown",
   "id": "1781b02d",
   "metadata": {},
   "source": [
    "Execute the schema files to build the necessary tables."
   ]
  },
  {
   "cell_type": "code",
   "execution_count": 75,
   "id": "48eacd37-4fd7-4768-b689-88b07d5c234e",
   "metadata": {},
   "outputs": [],
   "source": [
    "conn = psycopg2.connect (f\"dbname={DB_NAME} user={DB_USER} password={DB_PASSWORD} host={DB_HOST}\")\n",
    "cur = conn.cursor()\n",
    "\n",
    "with cur:\n",
    "    cur.execute(ZIPCODE_SCHEMA)\n",
    "    cur.execute(NYC_311_SCHEMA)\n",
    "    cur.execute(NYC_TREE_SCHEMA)\n",
    "    cur.execute(ZILLOW_SCHEMA)\n",
    "\n",
    "conn.commit()"
   ]
  },
  {
   "cell_type": "markdown",
   "id": "e05e212d",
   "metadata": {},
   "source": [
    "### Data Entry"
   ]
  },
  {
   "cell_type": "markdown",
   "id": "2e88a50c-9528-4a5c-9a52-b96781ee8985",
   "metadata": {},
   "source": [
    "Write data into the corresponding tables using SQL.\n",
    "\n",
    "**\"tablename_to_dataframe\" represents a \"dict\", where \"tablename\": \"dataframe\"**"
   ]
  },
  {
   "cell_type": "code",
   "execution_count": 69,
   "id": "69e37800-cd95-44b5-9c21-eb7ac2b2e4ec",
   "metadata": {},
   "outputs": [],
   "source": [
    "def write_dataframes_to_table(tablename_to_dataframe):\n",
    "    for tablename, dataframe in tablename_to_dataframe.items():\n",
    "        if 'geometry' in dataframe.columns:\n",
    "            # Create a copy of the dataframe, in order to avoid modifying the original.\n",
    "            temp_df = dataframe.copy()\n",
    "            \n",
    "            # Convert the \"geometry\" column to WKTElement.\n",
    "            temp_df['the_geom'] = temp_df['geometry'].apply(\n",
    "                lambda geom: WKTElement(geom.wkt, srid=4326) if geom is not None else None\n",
    "            )\n",
    "            \n",
    "            # Drop the original \"geometry\" column.\n",
    "            temp_df.drop('geometry', axis=1, inplace=True)\n",
    "            \n",
    "            # Write the dataframe to the SQL table.\n",
    "            temp_df.to_sql(\n",
    "                tablename, \n",
    "                engine, \n",
    "                if_exists='replace', \n",
    "                index=False, \n",
    "                dtype={'the_geom': Geometry('GEOMETRY', srid=4326)}\n",
    "            )\n",
    "        else:\n",
    "            # Write the dataframe to the SQL table, excluding \"geometry\".\n",
    "            dataframe.to_sql(tablename, engine, if_exists='replace', index=False)"
   ]
  },
  {
   "cell_type": "code",
   "execution_count": 73,
   "id": "d1f042f5-8270-477d-929a-872f7d9a0bc8",
   "metadata": {},
   "outputs": [],
   "source": [
    "tablename_to_dataframe = {\"zipcodes\": geodf_zipcode_data,\n",
    "                          \"rents\": df_zillow_data,\n",
    "                         \"trees\": geodf_tree_data}\n",
    "\n",
    "# \"complaints\": geodf_311_data,\n",
    "# \"trees\": geodf_tree_data,\n",
    "# \"rents\": df_zillow_data,"
   ]
  },
  {
   "cell_type": "markdown",
   "id": "5f40ae4c",
   "metadata": {},
   "source": [
    "Execute the previously-defined function to achieved the desired objective."
   ]
  },
  {
   "cell_type": "code",
   "execution_count": 72,
   "id": "9d052c50-1e43-4356-bcac-4f5abc7e714b",
   "metadata": {},
   "outputs": [],
   "source": [
    "write_dataframes_to_table(tablename_to_dataframe)"
   ]
  },
  {
   "cell_type": "markdown",
   "id": "eb63b553-0c64-4da8-9fc7-41555d89d853",
   "metadata": {},
   "source": [
    "## Part 3: Understanding the Data"
   ]
  },
  {
   "cell_type": "markdown",
   "id": "ef77985c",
   "metadata": {},
   "source": [
    "It's time for the fun part: attacking our data and grabbing the essentials to make conclusions, via a series of SQL queries."
   ]
  },
  {
   "cell_type": "markdown",
   "id": "83e44361",
   "metadata": {},
   "source": [
    "### Writing Queries to a File"
   ]
  },
  {
   "cell_type": "markdown",
   "id": "88ac3905",
   "metadata": {},
   "source": [
    "Establish a helper function that takes in \"query\", a string, and \"filename\", the output to write to."
   ]
  },
  {
   "cell_type": "code",
   "execution_count": 80,
   "id": "cd03c6d7",
   "metadata": {},
   "outputs": [],
   "source": [
    "def write_query_to_file(query, filename):\n",
    "    with open(filename, 'w') as file:\n",
    "        file.write(query)"
   ]
  },
  {
   "cell_type": "markdown",
   "id": "9459844a",
   "metadata": {},
   "source": [
    "### Query 1: Which area might be more calm to live in?"
   ]
  },
  {
   "cell_type": "markdown",
   "id": "86f7ccea",
   "metadata": {},
   "source": [
    "Areas that receive a high frequency of 311 complaints may be prone to disorder, rendering them less desirable to live in. Therefore, the goal of this SQL query is to identify which zip codes receive the most complaints, as these would be worth avoiding. We do so by grouping zip codes in descending order of total complaints received between October 1, 2022 and September 30, 2023. Since some complaints in the data are not associated with a particular area, we specify not include them in our results, which tie each zip code to its respective number of 311 complaints."
   ]
  },
  {
   "cell_type": "code",
   "execution_count": 90,
   "id": "c67fd86c",
   "metadata": {},
   "outputs": [],
   "source": [
    "QUERY_1_FILENAME = QUERY_DIR/\"Q1_calm\"\n",
    "QUERY_1 = \"\"\"\n",
    "SELECT zipcode, COUNT(*) as Total_Complaints\n",
    "FROM complaints\n",
    "WHERE created_date BETWEEN '2022-10-1'AND '2023-09-30'\n",
    "AND zipcode IS NOT NULL\n",
    "GROUP BY zipcode\n",
    "ORDER BY Total_Complaints DESC;\n",
    "\"\"\""
   ]
  },
  {
   "cell_type": "code",
   "execution_count": 91,
   "id": "cbaa1b81",
   "metadata": {},
   "outputs": [
    {
     "name": "stdout",
     "output_type": "stream",
     "text": [
      "('11226', 49347)\n",
      "('10467', 47358)\n",
      "('10468', 44081)\n",
      "('11385', 43943)\n",
      "('10452', 43880)\n",
      "('10457', 41537)\n",
      "('10458', 41186)\n",
      "('11207', 40173)\n",
      "('10456', 39772)\n",
      "('11201', 39344)\n",
      "('10453', 38107)\n",
      "('11208', 36763)\n",
      "('10031', 33863)\n",
      "('11221', 33114)\n",
      "('10466', 32584)\n",
      "('10032', 32047)\n",
      "('10025', 31106)\n",
      "('10462', 30760)\n",
      "('11238', 30181)\n",
      "('11230', 29683)\n",
      "('11368', 29225)\n",
      "('11220', 29064)\n",
      "('10019', 28322)\n",
      "('11216', 28159)\n",
      "('11225', 28076)\n",
      "('11235', 27838)\n",
      "('11212', 27355)\n",
      "('10463', 27053)\n",
      "('10460', 27011)\n",
      "('11203', 27000)\n",
      "('10023', 26961)\n",
      "('11214', 26776)\n",
      "('11377', 26385)\n",
      "('11101', 25995)\n",
      "('10027', 25899)\n",
      "('11213', 25894)\n",
      "('11211', 25571)\n",
      "('11234', 25567)\n",
      "('10002', 25564)\n",
      "('11206', 25410)\n",
      "('11209', 25381)\n",
      "('11215', 25334)\n",
      "('11222', 25330)\n",
      "('10472', 25313)\n",
      "('11218', 25079)\n",
      "('11233', 24973)\n",
      "('11223', 24336)\n",
      "('11373', 24099)\n",
      "('10033', 23676)\n",
      "('11237', 23391)\n",
      "('11229', 22860)\n",
      "('11236', 22719)\n",
      "('10461', 22367)\n",
      "('10034', 22334)\n",
      "('10011', 22196)\n",
      "('11204', 21787)\n",
      "('10003', 21772)\n",
      "('11210', 21423)\n",
      "('10469', 21373)\n",
      "('10026', 21321)\n",
      "('10009', 21024)\n",
      "('10029', 20963)\n",
      "('10036', 20833)\n",
      "('10451', 20773)\n",
      "('11372', 20507)\n",
      "('10459', 20347)\n",
      "('11217', 20329)\n",
      "('10314', 20083)\n",
      "('10040', 19859)\n",
      "('11419', 19692)\n",
      "('11432', 19660)\n",
      "('11231', 19646)\n",
      "('11420', 19559)\n",
      "('11378', 19195)\n",
      "('11219', 19120)\n",
      "('11375', 19051)\n",
      "('11355', 18844)\n",
      "('10455', 18393)\n",
      "('11366', 18377)\n",
      "('10035', 18343)\n",
      "('10030', 18018)\n",
      "('11421', 17217)\n",
      "('10016', 17213)\n",
      "('11205', 17154)\n",
      "('10312', 17000)\n",
      "('11434', 16900)\n",
      "('11435', 16652)\n",
      "('11414', 16230)\n",
      "('10024', 16201)\n",
      "('11691', 16051)\n",
      "('10306', 15881)\n",
      "('10473', 15595)\n",
      "('11103', 15412)\n",
      "('11106', 15035)\n",
      "('11379', 14735)\n",
      "('11433', 14416)\n",
      "('11105', 14333)\n",
      "('11224', 14209)\n",
      "('10465', 14164)\n",
      "('10028', 14076)\n",
      "('11354', 14043)\n",
      "('10301', 13768)\n",
      "('10454', 13656)\n",
      "('10014', 13432)\n",
      "('10001', 13254)\n",
      "('11249', 13015)\n",
      "('11357', 12888)\n",
      "('10304', 12852)\n",
      "('11369', 12666)\n",
      "('10013', 12453)\n",
      "('11232', 12413)\n",
      "('11102', 12345)\n",
      "('11374', 12280)\n",
      "('11417', 12143)\n",
      "('11365', 12036)\n",
      "('10128', 12023)\n",
      "('10039', 11955)\n",
      "('11228', 11938)\n",
      "('11418', 11788)\n",
      "('10012', 11563)\n",
      "('11239', 10976)\n",
      "('10305', 10851)\n",
      "('11413', 10820)\n",
      "('11358', 10770)\n",
      "('11412', 10580)\n",
      "('10309', 10083)\n",
      "('11356', 9964)\n",
      "('10022', 9841)\n",
      "('10021', 9679)\n",
      "('11104', 9627)\n",
      "('11361', 9171)\n",
      "('10470', 8983)\n",
      "('11367', 8939)\n",
      "('11416', 8596)\n",
      "('11423', 8423)\n",
      "('11694', 8345)\n",
      "('10065', 8174)\n",
      "('11422', 8019)\n",
      "('10010', 8012)\n",
      "('10037', 7949)\n",
      "('10471', 7683)\n",
      "('10018', 7682)\n",
      "('11436', 7647)\n",
      "('11370', 7341)\n",
      "('11364', 7107)\n",
      "('10308', 6826)\n",
      "('10474', 6807)\n",
      "('10017', 6781)\n",
      "('10310', 6773)\n",
      "('10038', 6719)\n",
      "('10303', 6665)\n",
      "('10302', 6423)\n",
      "('11429', 6203)\n",
      "('10075', 5797)\n",
      "('11415', 5676)\n",
      "('11411', 5651)\n",
      "('11692', 5634)\n",
      "('11428', 5471)\n",
      "('11427', 5072)\n",
      "('11693', 4240)\n",
      "('11426', 4193)\n",
      "('10007', 4188)\n",
      "('11360', 3860)\n",
      "('10475', 3767)\n",
      "('10307', 3767)\n",
      "('11362', 3244)\n",
      "('11430', 3066)\n",
      "('10464', 2615)\n",
      "('10004', 2550)\n",
      "('11004', 2404)\n",
      "('10005', 2104)\n",
      "('11363', 1892)\n",
      "('11109', 1842)\n",
      "('10006', 1627)\n",
      "('10044', 1036)\n",
      "('11001', 825)\n",
      "('10282', 743)\n",
      "('10000', 692)\n",
      "('11040', 653)\n",
      "('10069', 599)\n",
      "('10280', 559)\n",
      "('10020', 438)\n",
      "('10169', 412)\n",
      "('10121', 287)\n",
      "('10107', 228)\n",
      "('10278', 204)\n",
      "('10105', 163)\n",
      "('10153', 153)\n",
      "('11359', 148)\n",
      "('11697', 111)\n",
      "('10172', 101)\n",
      "('10151', 83)\n",
      "('10103', 81)\n",
      "('10281', 68)\n",
      "('10168', 60)\n",
      "('10118', 54)\n",
      "('12345', 51)\n",
      "('11005', 50)\n",
      "('10120', 49)\n",
      "('10106', 45)\n",
      "('11251', 41)\n",
      "('10162', 38)\n",
      "('10119', 35)\n",
      "('10041', 33)\n",
      "('10271', 33)\n",
      "('10112', 28)\n",
      "('10045', 27)\n",
      "('10165', 27)\n",
      "('10110', 26)\n",
      "('10154', 24)\n",
      "('10170', 24)\n",
      "('10171', 24)\n",
      "('10048', 23)\n",
      "('10178', 22)\n",
      "('11371', 21)\n",
      "('10158', 21)\n",
      "('11241', 18)\n",
      "('10123', 17)\n",
      "('10174', 16)\n",
      "('10179', 16)\n",
      "('10279', 15)\n",
      "('11695', 14)\n",
      "('10177', 13)\n",
      "('10111', 12)\n",
      "('10115', 12)\n",
      "('11242', 11)\n",
      "('10173', 9)\n",
      "('10176', 8)\n",
      "('10166', 7)\n",
      "('10152', 7)\n",
      "('10803', 5)\n",
      "('11735', 5)\n",
      "('10155', 4)\n",
      "('02062', 4)\n",
      "('10167', 4)\n",
      "('10122', 4)\n",
      "('11590', 4)\n",
      "('11801', 3)\n",
      "('14225', 3)\n",
      "('17110', 3)\n",
      "('11791', 3)\n",
      "('00083', 2)\n",
      "('11030', 2)\n",
      "('11714', 2)\n",
      "('11713', 2)\n",
      "('10977', 2)\n",
      "('10055', 2)\n",
      "('07657', 2)\n",
      "('14207', 2)\n",
      "('94158', 2)\n",
      "('33432', 2)\n",
      "('11558', 2)\n",
      "('07834', 2)\n",
      "('98057', 2)\n",
      "('10950', 2)\n",
      "('11766', 2)\n",
      "('48334', 2)\n",
      "('00000', 2)\n",
      "('48083', 2)\n",
      "('43017', 2)\n",
      "('07002', 1)\n",
      "('07001', 1)\n",
      "('03833', 1)\n",
      "('02026', 1)\n",
      "('11702', 1)\n",
      "('11710', 1)\n",
      "('11738', 1)\n",
      "('11747', 1)\n",
      "('11749', 1)\n",
      "('11756', 1)\n",
      "('11758', 1)\n",
      "('11762', 1)\n",
      "('11772', 1)\n",
      "('11790', 1)\n",
      "('11797', 1)\n",
      "('11802', 1)\n",
      "('12212', 1)\n",
      "('12550', 1)\n",
      "('12786', 1)\n",
      "('12983', 1)\n",
      "('13235', 1)\n",
      "('13601', 1)\n",
      "('14068', 1)\n",
      "('14621', 1)\n",
      "('15108', 1)\n",
      "('15220', 1)\n",
      "('19013', 1)\n",
      "('19034', 1)\n",
      "('19151', 1)\n",
      "('19176', 1)\n",
      "('19601', 1)\n",
      "('19610', 1)\n",
      "('21031', 1)\n",
      "('29601', 1)\n",
      "('30067', 1)\n",
      "('30144', 1)\n",
      "('33241', 1)\n",
      "('33496', 1)\n",
      "('34109', 1)\n",
      "('37217', 1)\n",
      "('37922', 1)\n",
      "('40225', 1)\n",
      "('43218', 1)\n",
      "('44087', 1)\n",
      "('44101', 1)\n",
      "('45040', 1)\n",
      "('48331', 1)\n",
      "('55164', 1)\n",
      "('60004', 1)\n",
      "('60018', 1)\n",
      "('60045', 1)\n",
      "('60076', 1)\n",
      "('60603', 1)\n",
      "('60604', 1)\n",
      "('75001', 1)\n",
      "('75007', 1)\n",
      "('78758', 1)\n",
      "('82001', 1)\n",
      "('84117', 1)\n",
      "('90071', 1)\n",
      "('91302', 1)\n",
      "('92025', 1)\n",
      "('92101', 1)\n",
      "('92868', 1)\n",
      "('94402', 1)\n",
      "('94804', 1)\n",
      "('95834', 1)\n",
      "('97208', 1)\n",
      "('N/A', 1)\n",
      "('na', 1)\n",
      "('11111', 1)\n",
      "('NA', 1)\n",
      "('11096', 1)\n",
      "('11050', 1)\n",
      "('11021', 1)\n",
      "('11003', 1)\n",
      "('10920', 1)\n",
      "('10801', 1)\n",
      "('10710', 1)\n",
      "('10704', 1)\n",
      "('10701', 1)\n",
      "('10573', 1)\n",
      "('10553', 1)\n",
      "('10552', 1)\n",
      "('10550', 1)\n",
      "('10532', 1)\n",
      "('10175', 1)\n",
      "('10080', 1)\n",
      "('08901', 1)\n",
      "('08857', 1)\n",
      "('08837', 1)\n",
      "('08817', 1)\n",
      "('08816', 1)\n",
      "('08540', 1)\n",
      "('07866', 1)\n",
      "('07740', 1)\n",
      "('07712', 1)\n",
      "('07652', 1)\n",
      "('07506', 1)\n",
      "('07501', 1)\n",
      "('07304', 1)\n",
      "('07083', 1)\n",
      "('11431', 1)\n",
      "('07081', 1)\n",
      "('07072', 1)\n",
      "('07071', 1)\n",
      "('07052', 1)\n",
      "('07017', 1)\n",
      "('11443', 1)\n",
      "('11510', 1)\n",
      "('11520', 1)\n",
      "('11530', 1)\n",
      "('11550', 1)\n",
      "('11552', 1)\n",
      "('11557', 1)\n",
      "('11559', 1)\n",
      "('11580', 1)\n",
      "('11581', 1)\n",
      "('11598', 1)\n"
     ]
    }
   ],
   "source": [
    "with engine.connect() as conn:\n",
    "    result = conn.execute(db.text(QUERY_1))\n",
    "    for row in result:\n",
    "        \n",
    "        print (row)"
   ]
  },
  {
   "cell_type": "code",
   "execution_count": 92,
   "id": "6585a040",
   "metadata": {},
   "outputs": [],
   "source": [
    "write_query_to_file(QUERY_1, QUERY_1_FILENAME)"
   ]
  },
  {
   "cell_type": "markdown",
   "id": "7ac7e12b-e251-4f08-8dc5-601db30c2089",
   "metadata": {},
   "source": [
    "### Query 2: Where has the most greenery?"
   ]
  },
  {
   "cell_type": "markdown",
   "id": "efba16de",
   "metadata": {},
   "source": [
    "Research shows that trees are vital to healthy, thriving communities, because they help improve air quality and minimize extreme temperatures during the summer. Hence, in this SQL query, we would like to prioritize areas with substantial greenery. We do so by identifying which 10 zip codes boast the highest number of trees. This involves grouping zip codes in descending order of the total quantity of trees, but limiting the resulting data to 10, as we prefer not to be inundated by areas which are home a low quantity of trees."
   ]
  },
  {
   "cell_type": "code",
   "execution_count": 93,
   "id": "d6ce8548-4aba-4bf9-992c-dedd0f249db4",
   "metadata": {},
   "outputs": [],
   "source": [
    "QUERY_2_FILENAME = QUERY_DIR / \"Q2_most trees\"\n",
    "QUERY_2 = \"\"\"\n",
    "SELECT zipcode, COUNT(tree_id) AS Total_Trees\n",
    "FROM trees\n",
    "GROUP BY zipcode\n",
    "ORDER BY Total_Trees DESC\n",
    "LIMIT 10;\n",
    "\"\"\""
   ]
  },
  {
   "cell_type": "code",
   "execution_count": 94,
   "id": "6605e6f3-ec42-4a8b-833c-5138c14b678b",
   "metadata": {},
   "outputs": [
    {
     "name": "stdout",
     "output_type": "stream",
     "text": [
      "('10025', 3696)\n",
      "('10024', 3311)\n",
      "('10027', 2992)\n",
      "('10014', 2591)\n",
      "('10031', 2587)\n",
      "('10029', 2423)\n",
      "('10002', 2265)\n",
      "('10023', 2260)\n",
      "('10032', 2217)\n",
      "('10128', 2136)\n"
     ]
    }
   ],
   "source": [
    "with engine.connect() as conn:\n",
    "    result = conn.execute(db.text(QUERY_2))\n",
    "    for row in result:\n",
    "        \n",
    "        print (row)"
   ]
  },
  {
   "cell_type": "code",
   "execution_count": 95,
   "id": "4b7b2c3d-8961-4c7e-8eb1-fc973d0ab9c1",
   "metadata": {},
   "outputs": [],
   "source": [
    "write_query_to_file(QUERY_2, QUERY_2_FILENAME)"
   ]
  },
  {
   "cell_type": "markdown",
   "id": "11aac5f1",
   "metadata": {},
   "source": [
    "### Query 3: Can I afford a place in the areas with the most trees?\n"
   ]
  },
  {
   "cell_type": "markdown",
   "id": "f0c0f68a",
   "metadata": {},
   "source": [
    "Unfortunately, we live in a society where areas with the most trees are often the most expensive to reside in. In fact, wealth disparities can be seen between districts with lush greenery, and those that are practically desert-like in layout. Still, we are open to spending a little more for a heightened level of comfort, but have to find out just how much less our wallets would weigh. We do this by performing a SQL join on the previously-generated list of the 10 zip codes with the average August 2023 monthly rent within them. To do so, \"zip code\" acts as the primary key, while \"trees\" acts as the foreign key. The result comprises zip codes paired with monthly rents, the latter of which are rounded to two decimal places."
   ]
  },
  {
   "cell_type": "code",
   "execution_count": 96,
   "id": "b42867a6",
   "metadata": {},
   "outputs": [],
   "source": [
    "QUERY_3_FILENAME = QUERY_DIR / \"Q3_most trees zipcodes rent\"\n",
    "QUERY_3 = \"\"\"\n",
    "SELECT t.zipcode, ROUND(CAST(r.\"2023-08-31\" AS NUMERIC),2)AS August2023\n",
    "FROM trees t\n",
    "JOIN rents r on t.zipcode = r.zipcode\n",
    "GROUP by t.zipcode, r.\"2023-08-31\"\n",
    "ORDER BY COUNT(t.tree_id) DESC\n",
    "LIMIT 10;\n",
    "\n",
    "\"\"\""
   ]
  },
  {
   "cell_type": "code",
   "execution_count": 97,
   "id": "b79059d2",
   "metadata": {},
   "outputs": [
    {
     "name": "stdout",
     "output_type": "stream",
     "text": [
      "('10025', Decimal('4037.77'))\n",
      "('10024', Decimal('3797.94'))\n",
      "('10027', Decimal('3235.99'))\n",
      "('10014', Decimal('4899.07'))\n",
      "('10031', Decimal('2967.04'))\n",
      "('10029', Decimal('2915.94'))\n",
      "('10002', Decimal('4078.87'))\n",
      "('10023', Decimal('4370.07'))\n",
      "('10032', Decimal('2657.76'))\n",
      "('10128', Decimal('3565.40'))\n"
     ]
    }
   ],
   "source": [
    "with engine.connect() as conn:\n",
    "    result = conn.execute(db.text(QUERY_3))\n",
    "    for row in result:\n",
    "        \n",
    "        print (row)"
   ]
  },
  {
   "cell_type": "code",
   "execution_count": 98,
   "id": "8c07c41e",
   "metadata": {},
   "outputs": [],
   "source": [
    "write_query_to_file(QUERY_3, QUERY_3_FILENAME)"
   ]
  },
  {
   "cell_type": "markdown",
   "id": "ba897904",
   "metadata": {},
   "source": [
    "### Query 4: Could there be a correlation between an area’s rent, the number of its trees, and the number of 311 complaints?"
   ]
  },
  {
   "cell_type": "markdown",
   "id": "7475c369",
   "metadata": {},
   "source": [
    "All of the variables that we had just examined do not all necessarily exist in isolation. As a result, we seek to evaluate them in totality. Using the month of January 2023, we find the 5 zip codes with the lowest average rent and the highest average rent. We make use of SQL join statements to combine each set of 5 zip codes with tree and complaint counts for each, then present all of the data in one result."
   ]
  },
  {
   "cell_type": "code",
   "execution_count": 128,
   "id": "dca48f8a",
   "metadata": {},
   "outputs": [],
   "source": [
    "QUERY_4_FILENAME = QUERY_DIR / \"Q4_rent trees complaints\"\n",
    "QUERY_4 = \"\"\"\n",
    "WITH ranked_rents AS (\n",
    "    SELECT zipcode,\n",
    "           ROUND(CAST(\"2023-01-31\" AS NUMERIC), 2) AS January2023,\n",
    "           RANK() OVER (ORDER BY \"2023-01-31\" DESC) AS rent_rank_desc,\n",
    "           RANK() OVER (ORDER BY \"2023-01-31\" ASC) AS rent_rank_asc\n",
    "    FROM rents\n",
    "    WHERE \"2023-01-31\" IS NOT NULL\n",
    ")\n",
    "SELECT rr.zipcode,\n",
    "       rr.January2023,\n",
    "       COUNT(t.tree_id) AS Total_Trees,\n",
    "       COUNT(c.complaint_type) AS Total_Complaints\n",
    "FROM ranked_rents rr\n",
    "LEFT JOIN trees t ON rr.zipcode = t.zipcode\n",
    "LEFT JOIN complaints c ON rr.zipcode = c.zipcode\n",
    "WHERE rr.rent_rank_desc <= 5 OR rr.rent_rank_asc <= 5\n",
    "GROUP BY rr.zipcode, rr.January2023\n",
    "ORDER BY rr.January2023 DESC;\n",
    "\n",
    "\"\"\""
   ]
  },
  {
   "cell_type": "code",
   "execution_count": 127,
   "id": "ceddeacf",
   "metadata": {},
   "outputs": [
    {
     "name": "stdout",
     "output_type": "stream",
     "text": [
      "('10007', Decimal('7270.24'), 10959915, 10959915)\n",
      "('10282', Decimal('7143.35'), 1071720, 1071720)\n",
      "('10013', Decimal('5480.11'), 113144260, 113144260)\n",
      "('10069', Decimal('4959.67'), 487900, 487900)\n",
      "('10011', Decimal('4741.87'), 313616908, 313616908)\n",
      "('10458', Decimal('1883.08'), 0, 266101)\n",
      "('11357', Decimal('1829.66'), 0, 96823)\n",
      "('10453', Decimal('1820.23'), 0, 273594)\n",
      "('10462', Decimal('1801.89'), 0, 195307)\n",
      "('10309', Decimal('1380.51'), 0, 77521)\n"
     ]
    }
   ],
   "source": [
    "with engine.connect() as conn:\n",
    "    result = conn.execute(db.text(QUERY_4))\n",
    "    for row in result:\n",
    "        \n",
    "        print (row)"
   ]
  },
  {
   "cell_type": "code",
   "execution_count": null,
   "id": "7416667d",
   "metadata": {},
   "outputs": [],
   "source": [
    "write_query_to_file(QUERY_4, QUERY_4_FILENAME)"
   ]
  },
  {
   "cell_type": "markdown",
   "id": "8fa5e2fa",
   "metadata": {},
   "source": [
    "### Query 5: Where has the most greenery (take 2)?"
   ]
  },
  {
   "cell_type": "markdown",
   "id": "fc5a13ac",
   "metadata": {},
   "source": [
    "Let's revisit the eternal question posed by our second query. We are once again looking for the top 10 zip codes with the most trees, but this time around, we are joining the tree table with the zip code table. As expected, the result is a dead ringer for what we had previously received."
   ]
  },
  {
   "cell_type": "code",
   "execution_count": 123,
   "id": "0324cdef",
   "metadata": {},
   "outputs": [],
   "source": [
    "QUERY_5_FILENAME = QUERY_DIR / \"Q5_most trees\"\n",
    "QUERY_5 = \"\"\"\n",
    "SELECT t.zipcode, COUNT(t.tree_id) AS Total_Trees\n",
    "FROM trees t\n",
    "LEFT JOIN zip_codes z ON ST_Contains (z.the_geom, t.the_geom)\n",
    "GROUP BY t.zipcode\n",
    "ORDER BY Total_Trees DESC\n",
    "LIMIT 10;\n",
    "\"\"\""
   ]
  },
  {
   "cell_type": "code",
   "execution_count": 124,
   "id": "8fcab454",
   "metadata": {},
   "outputs": [
    {
     "name": "stdout",
     "output_type": "stream",
     "text": [
      "('10025', 3696)\n",
      "('10024', 3311)\n",
      "('10027', 2992)\n",
      "('10014', 2591)\n",
      "('10031', 2587)\n",
      "('10029', 2423)\n",
      "('10002', 2265)\n",
      "('10023', 2260)\n",
      "('10032', 2217)\n",
      "('10128', 2136)\n"
     ]
    }
   ],
   "source": [
    "with engine.connect() as conn:\n",
    "    result = conn.execute(db.text(QUERY_5))\n",
    "    for row in result:\n",
    "        \n",
    "        print (row)"
   ]
  },
  {
   "cell_type": "code",
   "execution_count": 125,
   "id": "9d9746b1",
   "metadata": {},
   "outputs": [],
   "source": [
    "write_query_to_file(QUERY_5, QUERY_5_FILENAME)"
   ]
  },
  {
   "cell_type": "markdown",
   "id": "fa2f9641",
   "metadata": {},
   "source": [
    "### Query 6: What is the immediate area like?"
   ]
  },
  {
   "cell_type": "markdown",
   "id": "f21f3ccb",
   "metadata": {},
   "source": [
    "As we have discovered our inner tree enthusiasts through this project, we would now like to know which trees are close to us on campus. Within our tree data is a column for geometry, which pinpoints the precise location in which each tree is located. Using (40.80737875669467, -73.96253174434912) as a base coordinate pair for our location, we take all tree identifiers—save for zip code—and leverage the \"ST_DWithin\" function to find which ones fall within a ½-mile radius."
   ]
  },
  {
   "cell_type": "code",
   "execution_count": null,
   "id": "15825f85",
   "metadata": {},
   "outputs": [],
   "source": [
    "# ½-mile = 804.67 meters\n",
    "\n",
    "QUERY_6_FILENAME = QUERY_DIR / \"Q6_nearby trees\"\n",
    "QUERY_6 = \"\"\"\n",
    "SELECT  tree_id, species, health, status, (ST_X(the_geo), ST_Y(the_geo)) AS coordinates\n",
    "FROM trees\n",
    "WHERE ST_DWithin(the_geo, 'SRID = 4326; POINT(40.80737875669467 -73.96253174434912)', 804.67)\n",
    "\"\"\""
   ]
  },
  {
   "cell_type": "code",
   "execution_count": null,
   "id": "52e1dc95",
   "metadata": {},
   "outputs": [],
   "source": [
    "write_query_to_file(QUERY_6, QUERY_6_FILENAME)"
   ]
  },
  {
   "cell_type": "markdown",
   "id": "75223ce5-6ab5-4613-b6af-fa8e33bcc7d5",
   "metadata": {},
   "source": [
    "## Part 4: Visualizing the Data"
   ]
  },
  {
   "cell_type": "markdown",
   "id": "5fae7b29",
   "metadata": {},
   "source": [
    "Using raw data to derive a better understanding of our housing options is great and all, but visualizations are what will make our hard work accessible and appealing to others."
   ]
  },
  {
   "cell_type": "markdown",
   "id": "b21fcfed-ddbb-4908-a60e-ed7cbc6d5b00",
   "metadata": {},
   "source": [
    "### Visualization 1: What can I expect to put up with in NYC?"
   ]
  },
  {
   "cell_type": "markdown",
   "id": "85576b81",
   "metadata": {},
   "source": [
    "Hundreds of millions of people across the globe dream of living in New York City, among the towering skyscrapers and the vibrant urban streets. As we all know, however, it's not all just fun and games. There's a lot to get frustrated about living here, so let's find out what exactly grinds our gears. We'll start by finding the top 3 types of complaints filed."
   ]
  },
  {
   "cell_type": "code",
   "execution_count": 117,
   "id": "6f0e2cde-e43b-407b-ab93-ff85a2dba469",
   "metadata": {},
   "outputs": [],
   "source": [
    "QUERY_4_1= \"\"\"\n",
    "SELECT complaint_type, COUNT(*) AS complaint_count\n",
    "FROM complaints\n",
    "WHERE created_date BETWEEN '2022-10-01' AND '2023-09-30'\n",
    "GROUP BY complaint_type\n",
    "ORDER BY complaint_count DESC\n",
    "LIMIT 3;\n",
    "\"\"\"\n"
   ]
  },
  {
   "cell_type": "code",
   "execution_count": 118,
   "id": "e96dfa6a",
   "metadata": {},
   "outputs": [
    {
     "name": "stdout",
     "output_type": "stream",
     "text": [
      "('Illegal Parking', 455953)\n",
      "('Noise - Residential', 293036)\n",
      "('HEAT/HOT WATER', 237877)\n"
     ]
    }
   ],
   "source": [
    "with engine.connect() as conn:\n",
    "    result = conn.execute(db.text(QUERY_4_1))\n",
    "    for row in result:\n",
    "        \n",
    "        print (row)"
   ]
  },
  {
   "cell_type": "markdown",
   "id": "9d41e69a",
   "metadata": {},
   "source": [
    "With these 3 primary concerns in mind, we now turn to charting out the severity of each one. We first execute a query which counts each complaint and groups them by date and type, then fetches the results into a dataframe. We subseuqently plot the dataframe on a chart, setting the dates as rows and complaint types as columns. While residential noise complaints are rather consistent, and something that we have been experiencing throughout the past weekend, they pale in comparison to the absurd proportions that illegal parking complaints take."
   ]
  },
  {
   "cell_type": "code",
   "execution_count": 119,
   "id": "5d1a1fda",
   "metadata": {
    "scrolled": false
   },
   "outputs": [
    {
     "data": {
      "image/png": "[encoded data removed]",
      "text/plain": [
       "<Figure size 1500x700 with 1 Axes>"
      ]
     },
     "metadata": {},
     "output_type": "display_data"
    }
   ],
   "source": [
    "QUERY = \"\"\"\n",
    "SELECT created_date, complaint_type, COUNT(*) AS daily_complaint_count\n",
    "FROM complaints\n",
    "WHERE (complaint_type = 'Illegal Parking' OR \n",
    "       complaint_type = 'Noise - Residential' OR \n",
    "       complaint_type = 'HEAT/HOT WATER')\n",
    "AND created_date BETWEEN '2022-10-01' AND '2023-09-30'\n",
    "GROUP BY created_date, complaint_type\n",
    "ORDER BY created_date, complaint_type;\n",
    "\"\"\"\n",
    "\n",
    "with engine.connect() as conn:\n",
    "    df = pd.read_sql(text(QUERY), conn)\n",
    "\n",
    "pivot_df = df.pivot(index='created_date', columns='complaint_type', values='daily_complaint_count')\n",
    "\n",
    "plt.figure(figsize=(15, 7))\n",
    "for complaint_type in pivot_df.columns:\n",
    "    plt.plot(pivot_df.index, pivot_df[complaint_type], label=complaint_type)\n",
    "\n",
    "plt.xlabel('Date')\n",
    "plt.ylabel('Number of Complaints')\n",
    "plt.title('Number of Complaints Per Day for Top 3 Complaint Types (Oct 1, 2022, to Sep 30, 2023)')\n",
    "plt.legend()\n",
    "plt.grid(True)\n",
    "plt.tight_layout()  # Adjusts plot to ensure everything fits without overlap\n",
    "plt.show()"
   ]
  },
  {
   "cell_type": "markdown",
   "id": "ee049a2b",
   "metadata": {},
   "source": [
    "### Visualization 2: What are the most common complaints in the immediate area?"
   ]
  },
  {
   "cell_type": "markdown",
   "id": "42fe6404",
   "metadata": {},
   "source": [
    "While we may not all necessarily live in the vicinity of Columbia's campus, we certainly spend a lot of time here. Let's see what has been bothering residents in our neck of the woods. Clearly defining our zip code as \"10027\", we count all complaints received between October 1, 2018 and September 30, 2023, then place the top 10 categories in descending order. For greater transparency, we use a bar chart to highlight the differences in totals between each. Residential noise complaints exceed the rest by far, and for good reason. Those undergraduates really need to shut up!"
   ]
  },
  {
   "cell_type": "code",
   "execution_count": 120,
   "id": "1050ea2d",
   "metadata": {
    "scrolled": true
   },
   "outputs": [
    {
     "data": {
      "image/png": "[encoded data removed]",
      "text/plain": [
       "<Figure size 1200x600 with 1 Axes>"
      ]
     },
     "metadata": {},
     "output_type": "display_data"
    }
   ],
   "source": [
    "QUERY = \"\"\"\n",
    "SELECT complaint_type, COUNT(*) AS complaint_count\n",
    "FROM complaints\n",
    "WHERE zipcode = '10027'\n",
    "AND created_date BETWEEN '2018-10-01' AND '2023-09-30'\n",
    "GROUP BY complaint_type\n",
    "ORDER BY complaint_count DESC\n",
    "LIMIT 10;\n",
    "\"\"\"\n",
    "with engine.connect() as conn:\n",
    "    df = pd.read_sql(text(QUERY), conn)\n",
    "\n",
    "# Plotting the results as a bar chart\n",
    "plt.figure(figsize=(12, 6))\n",
    "plt.barh(df['complaint_type'], df['complaint_count'], color='skyblue')\n",
    "plt.xlabel('Number of Complaints', fontsize=14)\n",
    "plt.ylabel('Complaint Type', fontsize=14)\n",
    "plt.title('Top 10 Complaint Types in Zip Code 10027 (Oct 1, 2018, to Sep 30, 2023)', fontsize=16)\n",
    "plt.gca().invert_yaxis()  # Invert y-axis to display the highest count at the top\n",
    "plt.show()"
   ]
  },
  {
   "cell_type": "markdown",
   "id": "d0425267",
   "metadata": {},
   "source": [
    "### Visualization 3: Is there any correlation between rent, trees, and complaints at all?"
   ]
  },
  {
   "cell_type": "markdown",
   "id": "0b882e81",
   "metadata": {},
   "source": [
    "Earlier on, we mentioned how the prevalence of greenery could be a socioeconomic dividing factor. Let's see if that's actually the case in New York City. After all, some of the wealthiest pockets of the city fall within the concrete jungles of Midtown and Lower Manhattan.\n",
    "\n",
    "To evaluate our hypothesis, we query rent, tree count, and complaint count data by zip code. We then merge the data sets based on zip code, convert columns to numeric values, and create two scatter plots. One subplot displays rent compared to the number of trees by zip code, and the other shows rent compared to the number of complaints by zip code.\n",
    "\n",
    "When it comes to trees, the majority appear in areas that are low-to-medium in rent. The areas with the highest rents are correspondingly lacking in greenery. This supports our thought process. Meanwhile, complaints appear to trend downwards as rents increase."
   ]
  },
  {
   "cell_type": "code",
   "execution_count": 4,
   "id": "44c45752",
   "metadata": {},
   "outputs": [
    {
     "data": {
      "image/png": "[encoded data removed]",
      "text/plain": [
       "<Figure size 1400x1000 with 2 Axes>"
      ]
     },
     "metadata": {},
     "output_type": "display_data"
    }
   ],
   "source": [
    "query_rent = \"\"\"\n",
    "SELECT zipcode, \"2023-09-30\" AS average_rent\n",
    "FROM rents;\n",
    "\"\"\"\n",
    "df_rent = pd.read_sql(query_rent, engine)\n",
    "\n",
    "# Query to get the tree count data by zip code\n",
    "query_trees = \"\"\"\n",
    "SELECT zipcode, COUNT(*) AS tree_count\n",
    "FROM trees\n",
    "GROUP BY zipcode;\n",
    "\"\"\"\n",
    "df_trees = pd.read_sql(query_trees, engine)\n",
    "\n",
    "# Query to get the complaints count data by zip code\n",
    "query_complaints = \"\"\"\n",
    "SELECT zipcode, COUNT(*) AS complaint_count\n",
    "FROM complaints\n",
    "WHERE created_date BETWEEN '2015-01-01' AND '2023-09-30'\n",
    "GROUP BY zipcode;\n",
    "\"\"\"\n",
    "df_complaints = pd.read_sql(query_complaints, engine)\n",
    "\n",
    "# Merge the datasets on zipcode\n",
    "df_merged = df_rent.merge(df_trees, on='zipcode', how='left').merge(df_complaints, on='zipcode', how='left')\n",
    "\n",
    "# Convert columns to numeric and handle missing values\n",
    "df_merged['average_rent'] = pd.to_numeric(df_merged['average_rent'], errors='coerce')\n",
    "df_merged['tree_count'] = pd.to_numeric(df_merged['tree_count'], errors='coerce')\n",
    "df_merged['complaint_count'] = pd.to_numeric(df_merged['complaint_count'], errors='coerce')\n",
    "df_merged.dropna(inplace=True)\n",
    "\n",
    "# Now create the visualizations\n",
    "fig, axs = plt.subplots(2, 1, figsize=(14, 10), sharex=True)\n",
    "\n",
    "# Rent vs. Number of Trees\n",
    "axs[0].scatter(df_merged['average_rent'], df_merged['tree_count'], alpha=0.5)\n",
    "axs[0].set_ylabel('Number of Trees')\n",
    "axs[0].set_title('Rent vs Number of Trees by Zip Code')\n",
    "\n",
    "# Rent vs. Number of Complaints\n",
    "axs[1].scatter(df_merged['average_rent'], df_merged['complaint_count'], alpha=0.5, color='red')\n",
    "axs[1].set_xlabel('Average Rent')\n",
    "axs[1].set_ylabel('Number of Complaints')\n",
    "axs[1].set_title('Rent vs Number of Complaints by Zip Code')\n",
    "\n",
    "# Show the plot\n",
    "plt.tight_layout()\n",
    "plt.show()"
   ]
  },
  {
   "cell_type": "markdown",
   "id": "b7e85f49",
   "metadata": {},
   "source": [
    "### Visualization 4: If I can afford more in rent, will there be fewer issues & complaints?"
   ]
  },
  {
   "cell_type": "markdown",
   "id": "146153a5",
   "metadata": {},
   "source": [
    "In the previous scatter plot, it appears as if areas with higher rents are associated with fewer complaints. Let's double-check if this is actually the case, by creating a box plot which references our prior query tying complaints to zip codes. We separate the rent data into bins of $1,000, grouping by the dollar amount of the rent bin and calculating summary statistics for the total count of complaints. With all of this executed, we create a box plot where the x-axis represents average rent in September 2023, while the y-axis highlights the number of 311 complaints observed in each zip code between October 1, 2022 and September 30, 2023. The average number of complaints appears to fluctuate in areas where rent falls in the low-to-medium range, but the minimum value definitely appears to decrease as rents increase."
   ]
  },
  {
   "cell_type": "code",
   "execution_count": null,
   "id": "6ee88797",
   "metadata": {},
   "outputs": [],
   "source": [
    "QUERY = \"\"\"\n",
    "SELECT \n",
    "    r.zipcode, \n",
    "    r.\"2023-09-30\" AS September2023Rent,\n",
    "    COUNT(c.complaint_type) AS ComplaintCount\n",
    "FROM \n",
    "    rents r\n",
    "LEFT JOIN \n",
    "    complaints c ON r.zipcode = c.zipcode\n",
    "    AND c.created_date BETWEEN '2022-10-01' AND '2023-09-30'\n",
    "GROUP BY \n",
    "    r.zipcode, r.\"2023-09-30\";\n",
    "\"\"\"\n",
    "with engine.connect() as conn:\n",
    "    df = pd.read_sql(text(QUERY), conn)\n",
    "\n",
    "df.dropna(subset=['september2023rent'], inplace=True)\n",
    "# Bin the rent data into $1000 bins\n",
    "bins = range(0, int(df['september2023rent'].max()) + 1000, 1000)\n",
    "labels = [f\"${i}-${i + 999}\" for i in bins[:-1]]\n",
    "df['RentBin'] = pd.cut(df['september2023rent'], bins=bins, labels=labels, right=False)\n",
    "# Group by RentBin and calculate summary statistics for ComplaintCount\n",
    "complaint_summary = df.groupby('RentBin')['complaintcount'].describe()\n",
    "\n",
    "# Create boxplot\n",
    "complaint_summary['mean'].plot(kind='bar', yerr=[complaint_summary['mean'] - complaint_summary['25%'], complaint_summary['75%'] - complaint_summary['mean']])\n",
    "plt.xlabel('Average Rent (Sep 2023)')\n",
    "plt.ylabel('Number of 311 Complaints')\n",
    "plt.title('311 Complaints vs Average Rent in $1000 Bins')\n",
    "plt.xticks(rotation=45)\n",
    "plt.grid(True)\n",
    "plt.show()"
   ]
  }
 ],
 "metadata": {
  "kernelspec": {
   "display_name": "Python 3 (ipykernel)",
   "language": "python",
   "name": "python3"
  },
  "language_info": {
   "codemirror_mode": {
    "name": "ipython",
    "version": 3
   },
   "file_extension": ".py",
   "mimetype": "text/x-python",
   "name": "python",
   "nbconvert_exporter": "python",
   "pygments_lexer": "ipython3",
   "version": "3.11.4"
  }
 },
 "nbformat": 4,
 "nbformat_minor": 5
}
